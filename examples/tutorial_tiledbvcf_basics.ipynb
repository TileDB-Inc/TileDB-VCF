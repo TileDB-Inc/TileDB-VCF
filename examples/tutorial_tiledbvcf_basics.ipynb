{
 "cells": [
  {
   "cell_type": "markdown",
   "metadata": {},
   "source": [
    "# TileDB-VCF Tutorial\n",
    "\n",
    "**This notebook will cover how to:**\n",
    "\n",
    "- ingest S3 hosted VCF files directly into TileDB-VCF\n",
    "- query variant data from TileDB using genomic ranges\n",
    "- query variant data and export results to single and group VCFs\n",
    "- perform distributed queries via TileDB Cloud\n",
    "\n",
    "# 1. Setup\n",
    "\n",
    "## Packages"
   ]
  },
  {
   "cell_type": "code",
   "execution_count": 1,
   "metadata": {
    "execution": {
     "iopub.execute_input": "2023-04-30T22:37:16.312947Z",
     "iopub.status.busy": "2023-04-30T22:37:16.312851Z",
     "iopub.status.idle": "2023-04-30T22:37:16.665116Z",
     "shell.execute_reply": "2023-04-30T22:37:16.664661Z"
    },
    "tags": []
   },
   "outputs": [
    {
     "name": "stdout",
     "output_type": "stream",
     "text": [
      "tiledb v0.21.3\n",
      "numpy v1.21.6\n",
      "tiledb-cloud v0.10.0\n",
      "\n"
     ]
    }
   ],
   "source": [
    "import os\n",
    "import tiledb\n",
    "import tiledb.cloud\n",
    "import tiledbvcf\n",
    "import numpy as np\n",
    "\n",
    "print(\n",
    "    f\"tiledb v{tiledb.version.version}\\n\"\n",
    "    f\"numpy v{np.__version__}\\n\"\n",
    "    # f\"tiledb-vcf v{tiledbvcf.version}\\n\"\n",
    "    f\"tiledb-cloud v{tiledb.cloud.version.version}\\n\"\n",
    ")"
   ]
  },
  {
   "cell_type": "markdown",
   "metadata": {
    "tags": []
   },
   "source": [
    "Setup TileDB's virtual file system."
   ]
  },
  {
   "cell_type": "code",
   "execution_count": 2,
   "metadata": {
    "execution": {
     "iopub.execute_input": "2023-04-30T22:37:16.686189Z",
     "iopub.status.busy": "2023-04-30T22:37:16.685946Z",
     "iopub.status.idle": "2023-04-30T22:37:16.690996Z",
     "shell.execute_reply": "2023-04-30T22:37:16.690452Z"
    }
   },
   "outputs": [],
   "source": [
    "vfs = tiledb.VFS(config=tiledb.Config())"
   ]
  },
  {
   "cell_type": "markdown",
   "metadata": {},
   "source": [
    "# 2. Storing VCF Data with TileDB\n",
    "\n",
    "Specify a location for the new array."
   ]
  },
  {
   "cell_type": "code",
   "execution_count": 3,
   "metadata": {
    "execution": {
     "iopub.execute_input": "2023-04-30T22:37:16.692742Z",
     "iopub.status.busy": "2023-04-30T22:37:16.692492Z",
     "iopub.status.idle": "2023-04-30T22:37:16.695369Z",
     "shell.execute_reply": "2023-04-30T22:37:16.694776Z"
    }
   },
   "outputs": [],
   "source": [
    "array_uri = \"/tmp/demo-arraylocal\""
   ]
  },
  {
   "cell_type": "markdown",
   "metadata": {},
   "source": [
    "Have we run this notebook before? If so, delete the existing array to start fresh."
   ]
  },
  {
   "cell_type": "code",
   "execution_count": 4,
   "metadata": {
    "execution": {
     "iopub.execute_input": "2023-04-30T22:37:16.697252Z",
     "iopub.status.busy": "2023-04-30T22:37:16.697079Z",
     "iopub.status.idle": "2023-04-30T22:37:16.699725Z",
     "shell.execute_reply": "2023-04-30T22:37:16.699415Z"
    }
   },
   "outputs": [
    {
     "name": "stdout",
     "output_type": "stream",
     "text": [
      "Deleting existing array '/tmp/demo-arraylocal'\n",
      "Done.\n"
     ]
    }
   ],
   "source": [
    "if (vfs.is_dir(array_uri)):\n",
    "    print(f\"Deleting existing array '{array_uri}'\")\n",
    "    vfs.remove_dir(array_uri)\n",
    "    print(\"Done.\")"
   ]
  },
  {
   "cell_type": "markdown",
   "metadata": {},
   "source": [
    "## Example VCF Files\n",
    "\n",
    "TileDB-VCF inherits TileDB's native support for working with remote object stores, so we can ingest samples directly from remote services like AWS S3, Google Cloud, and Azure. Here, we'll use single sample BCF files with chromosome 1 data for phase 3 samples from the 1KG project stored in a publicly readable S3 bucket."
   ]
  },
  {
   "cell_type": "code",
   "execution_count": 5,
   "metadata": {
    "execution": {
     "iopub.execute_input": "2023-04-30T22:37:16.701166Z",
     "iopub.status.busy": "2023-04-30T22:37:16.701018Z",
     "iopub.status.idle": "2023-04-30T22:37:16.703111Z",
     "shell.execute_reply": "2023-04-30T22:37:16.702605Z"
    }
   },
   "outputs": [],
   "source": [
    "vcf_bucket = \"s3://tiledb-inc-demo-data/examples/notebooks/vcfs/1kgp3-chr1\""
   ]
  },
  {
   "cell_type": "markdown",
   "metadata": {},
   "source": [
    "For demonstration purposes we'll ingest individual batches of samples one at a time. To do this, we'll create a list of S3 URIs pointing to 5 sample BCF files."
   ]
  },
  {
   "cell_type": "code",
   "execution_count": 6,
   "metadata": {
    "execution": {
     "iopub.execute_input": "2023-04-30T22:37:16.705157Z",
     "iopub.status.busy": "2023-04-30T22:37:16.704801Z",
     "iopub.status.idle": "2023-04-30T22:37:16.709657Z",
     "shell.execute_reply": "2023-04-30T22:37:16.709232Z"
    },
    "tags": []
   },
   "outputs": [
    {
     "data": {
      "text/plain": [
       "['s3://tiledb-inc-demo-data/examples/notebooks/vcfs/1kgp3-chr1/HG00096.bcf',\n",
       " 's3://tiledb-inc-demo-data/examples/notebooks/vcfs/1kgp3-chr1/HG00097.bcf',\n",
       " 's3://tiledb-inc-demo-data/examples/notebooks/vcfs/1kgp3-chr1/HG00099.bcf',\n",
       " 's3://tiledb-inc-demo-data/examples/notebooks/vcfs/1kgp3-chr1/HG00100.bcf',\n",
       " 's3://tiledb-inc-demo-data/examples/notebooks/vcfs/1kgp3-chr1/HG00101.bcf']"
      ]
     },
     "execution_count": 6,
     "metadata": {},
     "output_type": "execute_result"
    }
   ],
   "source": [
    "batch1_samples = [\"HG00096.bcf\", \"HG00097.bcf\", \"HG00099.bcf\", \"HG00100.bcf\", \"HG00101.bcf\"]\n",
    "batch1_uris = [f\"{vcf_bucket}/{s}\" for s in batch1_samples]\n",
    "batch1_uris"
   ]
  },
  {
   "cell_type": "markdown",
   "metadata": {},
   "source": [
    "# 2. Create and Populate a TileDB-VCF Dataset\n",
    "\n",
    "## Create a New Dataset\n",
    "\n",
    "Before we can ingest VCF data into TileDB we must first create our new dataset. First, we'll create a TileDB-VCF `Dataset` instance that opens a connection to our desired `array_uri` in write mode."
   ]
  },
  {
   "cell_type": "code",
   "execution_count": 7,
   "metadata": {
    "execution": {
     "iopub.execute_input": "2023-04-30T22:37:16.711408Z",
     "iopub.status.busy": "2023-04-30T22:37:16.711258Z",
     "iopub.status.idle": "2023-04-30T22:37:16.716619Z",
     "shell.execute_reply": "2023-04-30T22:37:16.716224Z"
    }
   },
   "outputs": [
    {
     "data": {
      "text/plain": [
       "<tiledbvcf.dataset.Dataset at 0x7efc1c203350>"
      ]
     },
     "execution_count": 7,
     "metadata": {},
     "output_type": "execute_result"
    }
   ],
   "source": [
    "ds = tiledbvcf.Dataset(uri=array_uri, mode=\"w\")\n",
    "ds"
   ]
  },
  {
   "cell_type": "markdown",
   "metadata": {},
   "source": [
    "Next, we'll create the empty TileDB-VCF dataset. \n",
    "\n",
    "*Note: We can optionally pass a VCF file to the `vcf_attrs` argument to automatically materialize all of the `INFO` and `FORMAT` fields as separate attributes in the array (rather than htslib-encoded blobs), which can improve query performance.*"
   ]
  },
  {
   "cell_type": "code",
   "execution_count": 8,
   "metadata": {
    "execution": {
     "iopub.execute_input": "2023-04-30T22:37:16.718301Z",
     "iopub.status.busy": "2023-04-30T22:37:16.718168Z",
     "iopub.status.idle": "2023-04-30T22:37:17.164382Z",
     "shell.execute_reply": "2023-04-30T22:37:17.163991Z"
    }
   },
   "outputs": [
    {
     "data": {
      "text/plain": [
       "['allele_count',\n",
       " 'metadata',\n",
       " '__meta',\n",
       " 'variant_stats',\n",
       " '__group',\n",
       " '__tiledb_group.tdb',\n",
       " 'data']"
      ]
     },
     "execution_count": 8,
     "metadata": {},
     "output_type": "execute_result"
    }
   ],
   "source": [
    "ds.create_dataset(vcf_attrs=batch1_uris[0], enable_allele_count=True, enable_variant_stats=True)\n",
    "\n",
    "# verify the array exists\n",
    "os.listdir(array_uri)"
   ]
  },
  {
   "cell_type": "markdown",
   "metadata": {},
   "source": [
    "## Ingest Initial Batch of 5 VCF Files"
   ]
  },
  {
   "cell_type": "markdown",
   "metadata": {},
   "source": [
    "With the empty TileDB-VCF dataset created we can now ingest our first batch of samples."
   ]
  },
  {
   "cell_type": "code",
   "execution_count": 9,
   "metadata": {
    "execution": {
     "iopub.execute_input": "2023-04-30T22:37:17.165824Z",
     "iopub.status.busy": "2023-04-30T22:37:17.165684Z",
     "iopub.status.idle": "2023-04-30T22:38:01.995468Z",
     "shell.execute_reply": "2023-04-30T22:38:01.994747Z"
    }
   },
   "outputs": [
    {
     "name": "stdout",
     "output_type": "stream",
     "text": [
      "CPU times: user 10.2 s, sys: 1.55 s, total: 11.8 s\n",
      "Wall time: 44.8 s\n"
     ]
    }
   ],
   "source": [
    "%%time\n",
    "ds.ingest_samples(sample_uris = batch1_uris)"
   ]
  },
  {
   "cell_type": "markdown",
   "metadata": {},
   "source": [
    "This should take approximately 30s when ingesting from S3. Note most of this time is spent streaming the data, ingesting local copies of these files takes about 12s. \n",
    "\n",
    "We can verify the samples were ingested by listing the sample IDs contained within the new array:"
   ]
  },
  {
   "cell_type": "code",
   "execution_count": 10,
   "metadata": {
    "execution": {
     "iopub.execute_input": "2023-04-30T22:38:01.997254Z",
     "iopub.status.busy": "2023-04-30T22:38:01.997146Z",
     "iopub.status.idle": "2023-04-30T22:38:02.007558Z",
     "shell.execute_reply": "2023-04-30T22:38:02.007183Z"
    }
   },
   "outputs": [
    {
     "data": {
      "text/plain": [
       "['HG00096', 'HG00097', 'HG00099', 'HG00100', 'HG00101']"
      ]
     },
     "execution_count": 10,
     "metadata": {},
     "output_type": "execute_result"
    }
   ],
   "source": [
    "ds = tiledbvcf.Dataset(array_uri, mode = \"r\")\n",
    "ds.samples()"
   ]
  },
  {
   "cell_type": "markdown",
   "metadata": {},
   "source": [
    "## Ingest a Second Batch of 5 VCF Files\n",
    "\n",
    "Update the existing TileDB-VCF dataset with a second batch of samples."
   ]
  },
  {
   "cell_type": "code",
   "execution_count": 11,
   "metadata": {
    "execution": {
     "iopub.execute_input": "2023-04-30T22:38:02.009062Z",
     "iopub.status.busy": "2023-04-30T22:38:02.008924Z",
     "iopub.status.idle": "2023-04-30T22:38:02.011689Z",
     "shell.execute_reply": "2023-04-30T22:38:02.011350Z"
    }
   },
   "outputs": [
    {
     "data": {
      "text/plain": [
       "['s3://tiledb-inc-demo-data/examples/notebooks/vcfs/1kgp3-chr1/HG00102.bcf',\n",
       " 's3://tiledb-inc-demo-data/examples/notebooks/vcfs/1kgp3-chr1/HG00103.bcf',\n",
       " 's3://tiledb-inc-demo-data/examples/notebooks/vcfs/1kgp3-chr1/HG00105.bcf',\n",
       " 's3://tiledb-inc-demo-data/examples/notebooks/vcfs/1kgp3-chr1/HG00106.bcf',\n",
       " 's3://tiledb-inc-demo-data/examples/notebooks/vcfs/1kgp3-chr1/HG00107.bcf']"
      ]
     },
     "execution_count": 11,
     "metadata": {},
     "output_type": "execute_result"
    }
   ],
   "source": [
    "batch2_samples = [\"HG00102.bcf\", \"HG00103.bcf\", \"HG00105.bcf\", \"HG00106.bcf\", \"HG00107.bcf\"]\n",
    "batch2_uris = [f\"{vcf_bucket}/{s}\" for s in batch2_samples]\n",
    "batch2_uris"
   ]
  },
  {
   "cell_type": "markdown",
   "metadata": {},
   "source": [
    "The process is identical: we need to reopen the `Dataset` in write mode and then pass another list of VCF URIs to `ingest_samples()`."
   ]
  },
  {
   "cell_type": "code",
   "execution_count": 12,
   "metadata": {
    "execution": {
     "iopub.execute_input": "2023-04-30T22:38:02.013019Z",
     "iopub.status.busy": "2023-04-30T22:38:02.012897Z",
     "iopub.status.idle": "2023-04-30T22:38:48.939419Z",
     "shell.execute_reply": "2023-04-30T22:38:48.938843Z"
    }
   },
   "outputs": [
    {
     "name": "stdout",
     "output_type": "stream",
     "text": [
      "CPU times: user 10.2 s, sys: 1.57 s, total: 11.8 s\n",
      "Wall time: 46.9 s\n"
     ]
    }
   ],
   "source": [
    "%%time \n",
    "ds = tiledbvcf.Dataset(uri=array_uri, mode=\"w\") #Incremental update to the array, previous data is not touched \n",
    "ds.ingest_samples(sample_uris = batch2_uris)"
   ]
  },
  {
   "cell_type": "code",
   "execution_count": 13,
   "metadata": {
    "execution": {
     "iopub.execute_input": "2023-04-30T22:38:48.941136Z",
     "iopub.status.busy": "2023-04-30T22:38:48.941010Z",
     "iopub.status.idle": "2023-04-30T22:38:48.957878Z",
     "shell.execute_reply": "2023-04-30T22:38:48.957488Z"
    }
   },
   "outputs": [
    {
     "data": {
      "text/plain": [
       "['HG00096',\n",
       " 'HG00097',\n",
       " 'HG00099',\n",
       " 'HG00100',\n",
       " 'HG00101',\n",
       " 'HG00102',\n",
       " 'HG00103',\n",
       " 'HG00105',\n",
       " 'HG00106',\n",
       " 'HG00107']"
      ]
     },
     "execution_count": 13,
     "metadata": {},
     "output_type": "execute_result"
    }
   ],
   "source": [
    "ds = tiledbvcf.Dataset(array_uri, mode = \"r\") #Open array in read mode, and print out the samples we just ingested to verify\n",
    "ds.samples()"
   ]
  },
  {
   "cell_type": "markdown",
   "metadata": {},
   "source": [
    "Key takeaways:\n",
    "- new samples are easily added to existing datasets\n",
    "- incremental updates are extremely efficient"
   ]
  },
  {
   "cell_type": "markdown",
   "metadata": {},
   "source": [
    "# 3. Basic TileDB-VCF Query\n",
    "\n",
    "Open the array in *read* mode, and display attributes"
   ]
  },
  {
   "cell_type": "code",
   "execution_count": 14,
   "metadata": {
    "execution": {
     "iopub.execute_input": "2023-04-30T22:38:48.959570Z",
     "iopub.status.busy": "2023-04-30T22:38:48.959332Z",
     "iopub.status.idle": "2023-04-30T22:38:48.962092Z",
     "shell.execute_reply": "2023-04-30T22:38:48.961660Z"
    }
   },
   "outputs": [
    {
     "name": "stdout",
     "output_type": "stream",
     "text": [
      "CPU times: user 4 µs, sys: 0 ns, total: 4 µs\n",
      "Wall time: 9.54 µs\n"
     ]
    }
   ],
   "source": [
    "%%time\n",
    "regions = [\"1:11106535-11262551\"]"
   ]
  },
  {
   "cell_type": "markdown",
   "metadata": {},
   "source": [
    "Query for all variants located within *MTOR1* for a particular sample and return the results as a `Pandas.Dataframe`, which each row is a variant indexed by the chromosome, chromosome position, and sample."
   ]
  },
  {
   "cell_type": "code",
   "execution_count": 15,
   "metadata": {
    "execution": {
     "iopub.execute_input": "2023-04-30T22:38:48.963475Z",
     "iopub.status.busy": "2023-04-30T22:38:48.963384Z",
     "iopub.status.idle": "2023-04-30T22:38:49.031655Z",
     "shell.execute_reply": "2023-04-30T22:38:49.031267Z"
    }
   },
   "outputs": [
    {
     "name": "stdout",
     "output_type": "stream",
     "text": [
      "CPU times: user 19.9 ms, sys: 52.3 ms, total: 72.2 ms\n",
      "Wall time: 61.2 ms\n"
     ]
    },
    {
     "data": {
      "text/html": [
       "<div>\n",
       "<style scoped>\n",
       "    .dataframe tbody tr th:only-of-type {\n",
       "        vertical-align: middle;\n",
       "    }\n",
       "\n",
       "    .dataframe tbody tr th {\n",
       "        vertical-align: top;\n",
       "    }\n",
       "\n",
       "    .dataframe thead th {\n",
       "        text-align: right;\n",
       "    }\n",
       "</style>\n",
       "<table border=\"1\" class=\"dataframe\">\n",
       "  <thead>\n",
       "    <tr style=\"text-align: right;\">\n",
       "      <th></th>\n",
       "      <th>sample_name</th>\n",
       "      <th>contig</th>\n",
       "      <th>pos_start</th>\n",
       "      <th>pos_end</th>\n",
       "      <th>fmt_GT</th>\n",
       "    </tr>\n",
       "  </thead>\n",
       "  <tbody>\n",
       "    <tr>\n",
       "      <th>0</th>\n",
       "      <td>HG00096</td>\n",
       "      <td>1</td>\n",
       "      <td>11107439</td>\n",
       "      <td>11107439</td>\n",
       "      <td>[1, 1]</td>\n",
       "    </tr>\n",
       "    <tr>\n",
       "      <th>1</th>\n",
       "      <td>HG00096</td>\n",
       "      <td>1</td>\n",
       "      <td>11111976</td>\n",
       "      <td>11111979</td>\n",
       "      <td>[0, 1]</td>\n",
       "    </tr>\n",
       "    <tr>\n",
       "      <th>2</th>\n",
       "      <td>HG00096</td>\n",
       "      <td>1</td>\n",
       "      <td>11112836</td>\n",
       "      <td>11112836</td>\n",
       "      <td>[0, 1]</td>\n",
       "    </tr>\n",
       "    <tr>\n",
       "      <th>3</th>\n",
       "      <td>HG00096</td>\n",
       "      <td>1</td>\n",
       "      <td>11115299</td>\n",
       "      <td>11115299</td>\n",
       "      <td>[0, 1]</td>\n",
       "    </tr>\n",
       "    <tr>\n",
       "      <th>4</th>\n",
       "      <td>HG00096</td>\n",
       "      <td>1</td>\n",
       "      <td>11117536</td>\n",
       "      <td>11117536</td>\n",
       "      <td>[0, 1]</td>\n",
       "    </tr>\n",
       "    <tr>\n",
       "      <th>...</th>\n",
       "      <td>...</td>\n",
       "      <td>...</td>\n",
       "      <td>...</td>\n",
       "      <td>...</td>\n",
       "      <td>...</td>\n",
       "    </tr>\n",
       "    <tr>\n",
       "      <th>119</th>\n",
       "      <td>HG00096</td>\n",
       "      <td>1</td>\n",
       "      <td>11254006</td>\n",
       "      <td>11254007</td>\n",
       "      <td>[0, 1]</td>\n",
       "    </tr>\n",
       "    <tr>\n",
       "      <th>120</th>\n",
       "      <td>HG00096</td>\n",
       "      <td>1</td>\n",
       "      <td>11260848</td>\n",
       "      <td>11260848</td>\n",
       "      <td>[0, 1]</td>\n",
       "    </tr>\n",
       "    <tr>\n",
       "      <th>121</th>\n",
       "      <td>HG00096</td>\n",
       "      <td>1</td>\n",
       "      <td>11261929</td>\n",
       "      <td>11261929</td>\n",
       "      <td>[0, 1]</td>\n",
       "    </tr>\n",
       "    <tr>\n",
       "      <th>122</th>\n",
       "      <td>HG00096</td>\n",
       "      <td>1</td>\n",
       "      <td>11262020</td>\n",
       "      <td>11262020</td>\n",
       "      <td>[0, 1]</td>\n",
       "    </tr>\n",
       "    <tr>\n",
       "      <th>123</th>\n",
       "      <td>HG00096</td>\n",
       "      <td>1</td>\n",
       "      <td>11262310</td>\n",
       "      <td>11262310</td>\n",
       "      <td>[0, 1]</td>\n",
       "    </tr>\n",
       "  </tbody>\n",
       "</table>\n",
       "<p>124 rows × 5 columns</p>\n",
       "</div>"
      ],
      "text/plain": [
       "    sample_name contig  pos_start   pos_end  fmt_GT\n",
       "0       HG00096      1   11107439  11107439  [1, 1]\n",
       "1       HG00096      1   11111976  11111979  [0, 1]\n",
       "2       HG00096      1   11112836  11112836  [0, 1]\n",
       "3       HG00096      1   11115299  11115299  [0, 1]\n",
       "4       HG00096      1   11117536  11117536  [0, 1]\n",
       "..          ...    ...        ...       ...     ...\n",
       "119     HG00096      1   11254006  11254007  [0, 1]\n",
       "120     HG00096      1   11260848  11260848  [0, 1]\n",
       "121     HG00096      1   11261929  11261929  [0, 1]\n",
       "122     HG00096      1   11262020  11262020  [0, 1]\n",
       "123     HG00096      1   11262310  11262310  [0, 1]\n",
       "\n",
       "[124 rows x 5 columns]"
      ]
     },
     "execution_count": 15,
     "metadata": {},
     "output_type": "execute_result"
    }
   ],
   "source": [
    "%%time\n",
    "df = ds.read(\n",
    "    regions = regions,\n",
    "    samples = [\"HG00096\"],\n",
    "    attrs = [\"sample_name\", \"contig\", \"pos_start\", \"pos_end\", \"fmt_GT\"],\n",
    ")\n",
    "df"
   ]
  },
  {
   "cell_type": "markdown",
   "metadata": {},
   "source": [
    "# 4. Exporting to (g)VCF\n",
    "\n",
    "Here we're running the same query for an individual sample but exporting the results to a new VCF file."
   ]
  },
  {
   "cell_type": "code",
   "execution_count": 16,
   "metadata": {
    "execution": {
     "iopub.execute_input": "2023-04-30T22:38:49.033697Z",
     "iopub.status.busy": "2023-04-30T22:38:49.033561Z",
     "iopub.status.idle": "2023-04-30T22:38:49.149819Z",
     "shell.execute_reply": "2023-04-30T22:38:49.149258Z"
    },
    "tags": []
   },
   "outputs": [],
   "source": [
    "ds.export(\n",
    "    regions = ['1:10177-24924'],\n",
    "    samples = ['HG00101'],\n",
    "    output_format = 'v',\n",
    "    output_dir = '/tmp/'\n",
    ")"
   ]
  },
  {
   "cell_type": "markdown",
   "metadata": {},
   "source": [
    "We can `bcftools` to examine the newly generated VCF."
   ]
  },
  {
   "cell_type": "code",
   "execution_count": 17,
   "metadata": {
    "execution": {
     "iopub.execute_input": "2023-04-30T22:38:49.152169Z",
     "iopub.status.busy": "2023-04-30T22:38:49.152058Z",
     "iopub.status.idle": "2023-04-30T22:38:49.334436Z",
     "shell.execute_reply": "2023-04-30T22:38:49.333680Z"
    },
    "tags": []
   },
   "outputs": [
    {
     "name": "stdout",
     "output_type": "stream",
     "text": [
      "1\t10352\trs555500075\tT\tTA\t100\tPASS\tEND=10352;DP=88915;AN=2;VT=INDEL;AC=1;AA=|||unknown(NO_COVERAGE)\tGT\t1|0\r\n",
      "1\t10616\trs376342519\tCCGCCGTTGCAAAGGCGCGCCG\tC\t100\tPASS\tEND=10637;DP=2365;AN=2;VT=INDEL;AC=2\tGT\t1|1\r\n",
      "1\t13116\trs62635286\tT\tG\t100\tPASS\tEND=13116;DP=22340;AN=2;VT=SNP;AC=1;AA=t|||\tGT\t1|0\r\n",
      "1\t13118\trs200579949\tA\tG\t100\tPASS\tEND=13118;DP=21395;AN=2;VT=SNP;AC=1;AA=a|||\tGT\t1|0\r\n",
      "1\t14930\trs75454623\tA\tG\t100\tPASS\tEND=14930;DP=42231;AN=2;VT=SNP;AC=1;AA=a|||\tGT\t1|0\r\n",
      "1\t15211\trs78601809\tT\tG\t100\tPASS\tEND=15211;DP=32245;AN=2;VT=SNP;AC=1;AA=t|||\tGT\t1|0\r\n",
      "1\t15274\trs62636497\tA\tG,T\t100\tPASS\tEND=15274;MULTI_ALLELIC=SNP;DP=23255;AN=2;VT=SNP;AC=1,1;AA=g|||\tGT\t1|2\r\n",
      "1\t15903\trs557514207\tG\tGC\t100\tPASS\tEND=15903;DP=7012;EX_TARGET=INDE;AN=2;VT=INDEL;AC=1;AA=ccc|CC|CCC|deletion\tGT\t0|1\r\n",
      "1\t16949\trs199745162\tA\tC\t100\tPASS\tEND=16949;DP=41674;EX_TARGET=SNP;AN=2;VT=SNP;AC=1;AA=a|||\tGT\t0|1\r\n",
      "1\t18849\trs533090414\tC\tG\t100\tPASS\tEND=18849;DP=4700;AN=2;VT=SNP;AC=2;AA=g|||\tGT\t1|1\r\n"
     ]
    }
   ],
   "source": [
    "!bcftools view --no-header /tmp/HG00101.vcf | head -10"
   ]
  },
  {
   "cell_type": "markdown",
   "metadata": {},
   "source": [
    "Now let's modify the query to again include multiple samples and then export the results as a multi-sample VCF file."
   ]
  },
  {
   "cell_type": "code",
   "execution_count": 18,
   "metadata": {
    "execution": {
     "iopub.execute_input": "2023-04-30T22:38:49.336293Z",
     "iopub.status.busy": "2023-04-30T22:38:49.336183Z",
     "iopub.status.idle": "2023-04-30T22:38:49.449409Z",
     "shell.execute_reply": "2023-04-30T22:38:49.448895Z"
    },
    "tags": []
   },
   "outputs": [
    {
     "name": "stdout",
     "output_type": "stream",
     "text": [
      "CPU times: user 32.4 ms, sys: 84.5 ms, total: 117 ms\n",
      "Wall time: 110 ms\n"
     ]
    }
   ],
   "source": [
    "%%time\n",
    "ds.export(\n",
    "    regions = ['1:10177-24924'],\n",
    "    samples = ds.samples()[0:5],\n",
    "    merge = True,\n",
    "    output_format = 'v',\n",
    "    output_path = '/tmp/combined.vcf',\n",
    ")"
   ]
  },
  {
   "cell_type": "markdown",
   "metadata": {
    "tags": []
   },
   "source": [
    "Again, we can use `bcftools` to examine it."
   ]
  },
  {
   "cell_type": "code",
   "execution_count": 19,
   "metadata": {
    "execution": {
     "iopub.execute_input": "2023-04-30T22:38:49.451472Z",
     "iopub.status.busy": "2023-04-30T22:38:49.451312Z",
     "iopub.status.idle": "2023-04-30T22:38:49.635610Z",
     "shell.execute_reply": "2023-04-30T22:38:49.634767Z"
    },
    "tags": []
   },
   "outputs": [
    {
     "name": "stdout",
     "output_type": "stream",
     "text": [
      "1\t10177\trs367896724\tA\tAC\t100\tPASS\tAC=4;VT=INDEL;AN=8;DP=412608;AA=|||unknown(NO_COVERAGE);END=10177\tGT\t1|0\t0|1\t0|1\t1|0\t./.\r\n",
      "1\t10352\trs555500075\tT\tTA\t100\tPASS\tAC=5;VT=INDEL;AN=10;DP=444575;AA=|||unknown(NO_COVERAGE);END=10352\tGT\t1|0\t1|0\t0|1\t0|1\t1|0\r\n",
      "1\t10616\trs376342519\tCCGCCGTTGCAAAGGCGCGCCG\tC\t100\tPASS\tAC=10;VT=INDEL;AN=10;DP=11825;END=10637\tGT\t1|1\t1|1\t1|1\t1|1\t1|1\r\n",
      "1\t13110\trs540538026\tG\tA\t100\tPASS\tAC=1;VT=SNP;AN=2;DP=23422;AA=g|||;END=13110\tGT\t./.\t1|0\t./.\t./.\t./.\r\n",
      "1\t13116\trs62635286\tT\tG\t100\tPASS\tAC=2;VT=SNP;AN=4;DP=44680;AA=t|||;END=13116\tGT\t./.\t1|0\t./.\t./.\t1|0\r\n",
      "1\t13118\trs200579949\tA\tG\t100\tPASS\tAC=2;VT=SNP;AN=4;DP=42790;AA=a|||;END=13118\tGT\t./.\t1|0\t./.\t./.\t1|0\r\n",
      "1\t14464\trs546169444\tA\tT\t100\tPASS\tAC=3;VT=SNP;AN=4;DP=53522;AA=a|||;END=14464\tGT\t1|1\t./.\t1|0\t./.\t./.\r\n",
      "1\t14599\trs531646671\tT\tA\t100\tPASS\tAC=2;VT=SNP;AN=4;DP=64162;AA=t|||;END=14599\tGT\t./.\t0|1\t1|0\t./.\t./.\r\n",
      "1\t14604\trs541940975\tA\tG\t100\tPASS\tAC=2;VT=SNP;AN=4;DP=58462;AA=a|||;END=14604\tGT\t./.\t0|1\t1|0\t./.\t./.\r\n",
      "1\t14930\trs75454623\tA\tG\t100\tPASS\tAC=5;VT=SNP;AN=10;DP=211155;AA=a|||;END=14930\tGT\t1|0\t0|1\t0|1\t1|0\t1|0\r\n"
     ]
    }
   ],
   "source": [
    "!bcftools view --no-header /tmp/combined.vcf | head -10"
   ]
  },
  {
   "cell_type": "markdown",
   "metadata": {},
   "source": [
    "Key take aways:\n",
    "- slice efficiently by genomic region and/or sample\n",
    "- selectively retrieve specific VCF attributes\n",
    "- queries are returned as pyarrow Tables or pandas DataFrames\n",
    "- query and export results to single and combined VCFs"
   ]
  },
  {
   "cell_type": "markdown",
   "metadata": {
    "tags": []
   },
   "source": [
    "# 5. Partitioned Queries"
   ]
  },
  {
   "cell_type": "markdown",
   "metadata": {
    "tags": []
   },
   "source": [
    "Large queries can be split into partitions of regions, samples, or both by setting the appropriate partitioning parameter, which consists of 2 integers:\n",
    "1. The partition index\n",
    "2. The number of partitions\n",
    "\n",
    "### Query Sample Partition 1\n",
    "\n",
    "Open the array in *read* mode with the `sample_partition` parameter set to query the 1st of 2 sample partitions."
   ]
  },
  {
   "cell_type": "code",
   "execution_count": 20,
   "metadata": {
    "execution": {
     "iopub.execute_input": "2023-04-30T22:38:49.637568Z",
     "iopub.status.busy": "2023-04-30T22:38:49.637455Z",
     "iopub.status.idle": "2023-04-30T22:38:49.658706Z",
     "shell.execute_reply": "2023-04-30T22:38:49.658320Z"
    }
   },
   "outputs": [],
   "source": [
    "cfg = tiledbvcf.ReadConfig(sample_partition=(0, 2))\n",
    "ds = tiledbvcf.Dataset(array_uri, mode=\"r\", cfg=cfg)"
   ]
  },
  {
   "cell_type": "code",
   "execution_count": 21,
   "metadata": {
    "execution": {
     "iopub.execute_input": "2023-04-30T22:38:49.660324Z",
     "iopub.status.busy": "2023-04-30T22:38:49.660185Z",
     "iopub.status.idle": "2023-04-30T22:38:49.735550Z",
     "shell.execute_reply": "2023-04-30T22:38:49.735257Z"
    },
    "tags": []
   },
   "outputs": [
    {
     "name": "stdout",
     "output_type": "stream",
     "text": [
      "CPU times: user 8.24 ms, sys: 72 ms, total: 80.2 ms\n",
      "Wall time: 67.1 ms\n"
     ]
    },
    {
     "data": {
      "text/html": [
       "<div>\n",
       "<style scoped>\n",
       "    .dataframe tbody tr th:only-of-type {\n",
       "        vertical-align: middle;\n",
       "    }\n",
       "\n",
       "    .dataframe tbody tr th {\n",
       "        vertical-align: top;\n",
       "    }\n",
       "\n",
       "    .dataframe thead th {\n",
       "        text-align: right;\n",
       "    }\n",
       "</style>\n",
       "<table border=\"1\" class=\"dataframe\">\n",
       "  <thead>\n",
       "    <tr style=\"text-align: right;\">\n",
       "      <th></th>\n",
       "      <th>sample_name</th>\n",
       "      <th>contig</th>\n",
       "      <th>pos_start</th>\n",
       "      <th>pos_end</th>\n",
       "      <th>alleles</th>\n",
       "      <th>fmt_GT</th>\n",
       "    </tr>\n",
       "  </thead>\n",
       "  <tbody>\n",
       "    <tr>\n",
       "      <th>0</th>\n",
       "      <td>HG00096</td>\n",
       "      <td>1</td>\n",
       "      <td>43337897</td>\n",
       "      <td>43337897</td>\n",
       "      <td>[A, G]</td>\n",
       "      <td>[1, 0]</td>\n",
       "    </tr>\n",
       "    <tr>\n",
       "      <th>1</th>\n",
       "      <td>HG00096</td>\n",
       "      <td>1</td>\n",
       "      <td>43339092</td>\n",
       "      <td>43339092</td>\n",
       "      <td>[C, T]</td>\n",
       "      <td>[1, 1]</td>\n",
       "    </tr>\n",
       "    <tr>\n",
       "      <th>2</th>\n",
       "      <td>HG00097</td>\n",
       "      <td>1</td>\n",
       "      <td>43339092</td>\n",
       "      <td>43339092</td>\n",
       "      <td>[C, T]</td>\n",
       "      <td>[1, 1]</td>\n",
       "    </tr>\n",
       "    <tr>\n",
       "      <th>3</th>\n",
       "      <td>HG00099</td>\n",
       "      <td>1</td>\n",
       "      <td>43339092</td>\n",
       "      <td>43339092</td>\n",
       "      <td>[C, T]</td>\n",
       "      <td>[1, 1]</td>\n",
       "    </tr>\n",
       "    <tr>\n",
       "      <th>4</th>\n",
       "      <td>HG00100</td>\n",
       "      <td>1</td>\n",
       "      <td>43339092</td>\n",
       "      <td>43339092</td>\n",
       "      <td>[C, T]</td>\n",
       "      <td>[1, 1]</td>\n",
       "    </tr>\n",
       "    <tr>\n",
       "      <th>...</th>\n",
       "      <td>...</td>\n",
       "      <td>...</td>\n",
       "      <td>...</td>\n",
       "      <td>...</td>\n",
       "      <td>...</td>\n",
       "      <td>...</td>\n",
       "    </tr>\n",
       "    <tr>\n",
       "      <th>105</th>\n",
       "      <td>HG00099</td>\n",
       "      <td>1</td>\n",
       "      <td>43352685</td>\n",
       "      <td>43352685</td>\n",
       "      <td>[A, G]</td>\n",
       "      <td>[1, 1]</td>\n",
       "    </tr>\n",
       "    <tr>\n",
       "      <th>106</th>\n",
       "      <td>HG00100</td>\n",
       "      <td>1</td>\n",
       "      <td>43352685</td>\n",
       "      <td>43352685</td>\n",
       "      <td>[A, G]</td>\n",
       "      <td>[1, 1]</td>\n",
       "    </tr>\n",
       "    <tr>\n",
       "      <th>107</th>\n",
       "      <td>HG00101</td>\n",
       "      <td>1</td>\n",
       "      <td>43352685</td>\n",
       "      <td>43352685</td>\n",
       "      <td>[A, G]</td>\n",
       "      <td>[1, 1]</td>\n",
       "    </tr>\n",
       "    <tr>\n",
       "      <th>108</th>\n",
       "      <td>HG00099</td>\n",
       "      <td>1</td>\n",
       "      <td>43352723</td>\n",
       "      <td>43352723</td>\n",
       "      <td>[C, G]</td>\n",
       "      <td>[1, 0]</td>\n",
       "    </tr>\n",
       "    <tr>\n",
       "      <th>109</th>\n",
       "      <td>HG00100</td>\n",
       "      <td>1</td>\n",
       "      <td>43352723</td>\n",
       "      <td>43352723</td>\n",
       "      <td>[C, G]</td>\n",
       "      <td>[1, 0]</td>\n",
       "    </tr>\n",
       "  </tbody>\n",
       "</table>\n",
       "<p>110 rows × 6 columns</p>\n",
       "</div>"
      ],
      "text/plain": [
       "    sample_name contig  pos_start   pos_end alleles  fmt_GT\n",
       "0       HG00096      1   43337897  43337897  [A, G]  [1, 0]\n",
       "1       HG00096      1   43339092  43339092  [C, T]  [1, 1]\n",
       "2       HG00097      1   43339092  43339092  [C, T]  [1, 1]\n",
       "3       HG00099      1   43339092  43339092  [C, T]  [1, 1]\n",
       "4       HG00100      1   43339092  43339092  [C, T]  [1, 1]\n",
       "..          ...    ...        ...       ...     ...     ...\n",
       "105     HG00099      1   43352685  43352685  [A, G]  [1, 1]\n",
       "106     HG00100      1   43352685  43352685  [A, G]  [1, 1]\n",
       "107     HG00101      1   43352685  43352685  [A, G]  [1, 1]\n",
       "108     HG00099      1   43352723  43352723  [C, G]  [1, 0]\n",
       "109     HG00100      1   43352723  43352723  [C, G]  [1, 0]\n",
       "\n",
       "[110 rows x 6 columns]"
      ]
     },
     "execution_count": 21,
     "metadata": {},
     "output_type": "execute_result"
    }
   ],
   "source": [
    "%%time\n",
    "\n",
    "df = ds.read(\n",
    "    attrs = [\"sample_name\", \"contig\", \"pos_start\", \"pos_end\", \"alleles\", \"fmt_GT\"],\n",
    "    regions = [\"1:43337848-43352772\"],\n",
    ")\n",
    "\n",
    "df"
   ]
  },
  {
   "cell_type": "markdown",
   "metadata": {
    "tags": []
   },
   "source": [
    "### Query Sample Partition 2\n",
    "\n",
    "Re-open the array with the `sample_partition` parameter set to query the 2nd sample partition (i.e., samples 6–10)."
   ]
  },
  {
   "cell_type": "code",
   "execution_count": 22,
   "metadata": {
    "execution": {
     "iopub.execute_input": "2023-04-30T22:38:49.737248Z",
     "iopub.status.busy": "2023-04-30T22:38:49.737106Z",
     "iopub.status.idle": "2023-04-30T22:38:49.754567Z",
     "shell.execute_reply": "2023-04-30T22:38:49.754167Z"
    }
   },
   "outputs": [],
   "source": [
    "cfg = tiledbvcf.ReadConfig(sample_partition=(1, 2)) #This will return the second sub-set of the samples \n",
    "ds = tiledbvcf.Dataset(array_uri, mode=\"r\", cfg=cfg)"
   ]
  },
  {
   "cell_type": "code",
   "execution_count": 23,
   "metadata": {
    "execution": {
     "iopub.execute_input": "2023-04-30T22:38:49.756106Z",
     "iopub.status.busy": "2023-04-30T22:38:49.756008Z",
     "iopub.status.idle": "2023-04-30T22:38:49.831486Z",
     "shell.execute_reply": "2023-04-30T22:38:49.831054Z"
    },
    "tags": []
   },
   "outputs": [
    {
     "name": "stdout",
     "output_type": "stream",
     "text": [
      "CPU times: user 14.2 ms, sys: 66.8 ms, total: 81 ms\n",
      "Wall time: 67.7 ms\n"
     ]
    },
    {
     "data": {
      "text/html": [
       "<div>\n",
       "<style scoped>\n",
       "    .dataframe tbody tr th:only-of-type {\n",
       "        vertical-align: middle;\n",
       "    }\n",
       "\n",
       "    .dataframe tbody tr th {\n",
       "        vertical-align: top;\n",
       "    }\n",
       "\n",
       "    .dataframe thead th {\n",
       "        text-align: right;\n",
       "    }\n",
       "</style>\n",
       "<table border=\"1\" class=\"dataframe\">\n",
       "  <thead>\n",
       "    <tr style=\"text-align: right;\">\n",
       "      <th></th>\n",
       "      <th>sample_name</th>\n",
       "      <th>contig</th>\n",
       "      <th>pos_start</th>\n",
       "      <th>pos_end</th>\n",
       "      <th>alleles</th>\n",
       "      <th>fmt_GT</th>\n",
       "    </tr>\n",
       "  </thead>\n",
       "  <tbody>\n",
       "    <tr>\n",
       "      <th>0</th>\n",
       "      <td>HG00102</td>\n",
       "      <td>1</td>\n",
       "      <td>43337978</td>\n",
       "      <td>43337978</td>\n",
       "      <td>[T, C]</td>\n",
       "      <td>[0, 1]</td>\n",
       "    </tr>\n",
       "    <tr>\n",
       "      <th>1</th>\n",
       "      <td>HG00102</td>\n",
       "      <td>1</td>\n",
       "      <td>43339092</td>\n",
       "      <td>43339092</td>\n",
       "      <td>[C, T]</td>\n",
       "      <td>[1, 1]</td>\n",
       "    </tr>\n",
       "    <tr>\n",
       "      <th>2</th>\n",
       "      <td>HG00103</td>\n",
       "      <td>1</td>\n",
       "      <td>43339092</td>\n",
       "      <td>43339092</td>\n",
       "      <td>[C, T]</td>\n",
       "      <td>[1, 1]</td>\n",
       "    </tr>\n",
       "    <tr>\n",
       "      <th>3</th>\n",
       "      <td>HG00105</td>\n",
       "      <td>1</td>\n",
       "      <td>43339092</td>\n",
       "      <td>43339092</td>\n",
       "      <td>[C, T]</td>\n",
       "      <td>[1, 1]</td>\n",
       "    </tr>\n",
       "    <tr>\n",
       "      <th>4</th>\n",
       "      <td>HG00106</td>\n",
       "      <td>1</td>\n",
       "      <td>43339092</td>\n",
       "      <td>43339092</td>\n",
       "      <td>[C, T]</td>\n",
       "      <td>[1, 1]</td>\n",
       "    </tr>\n",
       "    <tr>\n",
       "      <th>...</th>\n",
       "      <td>...</td>\n",
       "      <td>...</td>\n",
       "      <td>...</td>\n",
       "      <td>...</td>\n",
       "      <td>...</td>\n",
       "      <td>...</td>\n",
       "    </tr>\n",
       "    <tr>\n",
       "      <th>112</th>\n",
       "      <td>HG00106</td>\n",
       "      <td>1</td>\n",
       "      <td>43352685</td>\n",
       "      <td>43352685</td>\n",
       "      <td>[A, G]</td>\n",
       "      <td>[1, 1]</td>\n",
       "    </tr>\n",
       "    <tr>\n",
       "      <th>113</th>\n",
       "      <td>HG00107</td>\n",
       "      <td>1</td>\n",
       "      <td>43352685</td>\n",
       "      <td>43352685</td>\n",
       "      <td>[A, G]</td>\n",
       "      <td>[1, 1]</td>\n",
       "    </tr>\n",
       "    <tr>\n",
       "      <th>114</th>\n",
       "      <td>HG00102</td>\n",
       "      <td>1</td>\n",
       "      <td>43352723</td>\n",
       "      <td>43352723</td>\n",
       "      <td>[C, G]</td>\n",
       "      <td>[1, 0]</td>\n",
       "    </tr>\n",
       "    <tr>\n",
       "      <th>115</th>\n",
       "      <td>HG00103</td>\n",
       "      <td>1</td>\n",
       "      <td>43352723</td>\n",
       "      <td>43352723</td>\n",
       "      <td>[C, G]</td>\n",
       "      <td>[1, 0]</td>\n",
       "    </tr>\n",
       "    <tr>\n",
       "      <th>116</th>\n",
       "      <td>HG00107</td>\n",
       "      <td>1</td>\n",
       "      <td>43352723</td>\n",
       "      <td>43352723</td>\n",
       "      <td>[C, G]</td>\n",
       "      <td>[0, 1]</td>\n",
       "    </tr>\n",
       "  </tbody>\n",
       "</table>\n",
       "<p>117 rows × 6 columns</p>\n",
       "</div>"
      ],
      "text/plain": [
       "    sample_name contig  pos_start   pos_end alleles  fmt_GT\n",
       "0       HG00102      1   43337978  43337978  [T, C]  [0, 1]\n",
       "1       HG00102      1   43339092  43339092  [C, T]  [1, 1]\n",
       "2       HG00103      1   43339092  43339092  [C, T]  [1, 1]\n",
       "3       HG00105      1   43339092  43339092  [C, T]  [1, 1]\n",
       "4       HG00106      1   43339092  43339092  [C, T]  [1, 1]\n",
       "..          ...    ...        ...       ...     ...     ...\n",
       "112     HG00106      1   43352685  43352685  [A, G]  [1, 1]\n",
       "113     HG00107      1   43352685  43352685  [A, G]  [1, 1]\n",
       "114     HG00102      1   43352723  43352723  [C, G]  [1, 0]\n",
       "115     HG00103      1   43352723  43352723  [C, G]  [1, 0]\n",
       "116     HG00107      1   43352723  43352723  [C, G]  [0, 1]\n",
       "\n",
       "[117 rows x 6 columns]"
      ]
     },
     "execution_count": 23,
     "metadata": {},
     "output_type": "execute_result"
    }
   ],
   "source": [
    "%%time\n",
    "\n",
    "df = ds.read(\n",
    "    attrs = [\"sample_name\", \"contig\", \"pos_start\", \"pos_end\", \"alleles\", \"fmt_GT\"],\n",
    "    regions = [\"1:43337848-43352772\"],\n",
    ")\n",
    "df"
   ]
  },
  {
   "cell_type": "markdown",
   "metadata": {},
   "source": [
    "Key takeaways:\n",
    "- TileDB support fast, parallel slicing\n",
    "- TileDB-VCF provides a convenient API to to partition queries across sample/genomic dimensions\n",
    "\n",
    "# 6. Parallel Queries with TileDB Cloud\n",
    "\n",
    "## Setup\n",
    "\n",
    "Import the `Delayed` module from `tiledb.cloud`. This is allows us to convert a normal python function into one that can be *Delayed* and serverlessly executed."
   ]
  },
  {
   "cell_type": "code",
   "execution_count": 24,
   "metadata": {
    "execution": {
     "iopub.execute_input": "2023-04-30T22:38:49.833111Z",
     "iopub.status.busy": "2023-04-30T22:38:49.833007Z",
     "iopub.status.idle": "2023-04-30T22:38:49.835111Z",
     "shell.execute_reply": "2023-04-30T22:38:49.834664Z"
    }
   },
   "outputs": [],
   "source": [
    "from tiledb.cloud.compute import Delayed"
   ]
  },
  {
   "cell_type": "markdown",
   "metadata": {},
   "source": [
    "## Run a Basic Query Serverlessly"
   ]
  },
  {
   "cell_type": "markdown",
   "metadata": {},
   "source": [
    "Create UDF that wraps `tiledbvcf.read()`."
   ]
  },
  {
   "cell_type": "code",
   "execution_count": 25,
   "metadata": {
    "execution": {
     "iopub.execute_input": "2023-04-30T22:38:49.836859Z",
     "iopub.status.busy": "2023-04-30T22:38:49.836722Z",
     "iopub.status.idle": "2023-04-30T22:38:49.839031Z",
     "shell.execute_reply": "2023-04-30T22:38:49.838779Z"
    }
   },
   "outputs": [],
   "source": [
    "def vcf_query(uri, attrs, regions, samples=None, sample_partition=(0, 1)):\n",
    "    import tiledbvcf\n",
    "    import pyarrow\n",
    "    cfg = tiledbvcf.ReadConfig(sample_partition=sample_partition)\n",
    "    vcf_ds = tiledbvcf.Dataset(uri, mode=\"r\", cfg=cfg)\n",
    "    \n",
    "    results = [vcf_ds.read_arrow(attrs=attrs, samples=samples, regions=regions)]\n",
    "    while not vcf_ds.read_completed():\n",
    "        results.append(vcf_ds.continue_read_arrow())\n",
    "\n",
    "    return pyarrow.concat_tables(results, promote=False)"
   ]
  },
  {
   "cell_type": "markdown",
   "metadata": {},
   "source": [
    "Create a delayed *instance* of this UDF and specify the parameters we want to run it with. "
   ]
  },
  {
   "cell_type": "code",
   "execution_count": 26,
   "metadata": {
    "execution": {
     "iopub.execute_input": "2023-04-30T22:38:49.840716Z",
     "iopub.status.busy": "2023-04-30T22:38:49.840598Z",
     "iopub.status.idle": "2023-04-30T22:38:49.844374Z",
     "shell.execute_reply": "2023-04-30T22:38:49.844124Z"
    }
   },
   "outputs": [],
   "source": [
    "array_uri = \"tiledb://TileDB-Inc/vcf-1kg-nygc\"\n",
    "\n",
    "query_attrs = [\"sample_name\", \"contig\", \"pos_start\", \"pos_end\", \"fmt_GT\"]\n",
    "query_samples = [\"HG00096\", \"HG00097\", \"HG00099\", \"HG00100\", \"HG00101\", \"HG00102\", \"HG00103\", \"HG00105\", \"HG00106\", \"HG00107\", \"HG00108\", \"HG00109\", \"HG00110\", \"HG00111\", \"HG00112\", \"HG00113\", \"HG00114\", \"HG00115\", \"HG00116\", \"HG00117\", \"HG00118\", \"HG00119\", \"HG00120\", \"HG00121\", \"HG00122\", \"HG00123\", \"HG00125\", \"HG00126\", \"HG00127\", \"HG00128\", \"HG00129\", \"HG00130\", \"HG00131\", \"HG00132\", \"HG00133\", \"HG00136\", \"HG00137\", \"HG00138\", \"HG00139\", \"HG00140\", \"HG00141\", \"HG00142\", \"HG00143\", \"HG00145\", \"HG00146\", \"HG00148\", \"HG00149\", \"HG00150\", \"HG00151\", \"HG00154\", \"HG00155\", \"HG00157\", \"HG00158\", \"HG00159\", \"HG00160\", \"HG00171\", \"HG00173\", \"HG00174\", \"HG00176\", \"HG00177\", \"HG00178\", \"HG00179\", \"HG00180\", \"HG00181\", \"HG00182\", \"HG00183\", \"HG00185\", \"HG00186\", \"HG00187\", \"HG00188\", \"HG00189\", \"HG00190\", \"HG00231\", \"HG00232\", \"HG00233\", \"HG00234\", \"HG00235\", \"HG00236\", \"HG00237\", \"HG00238\", \"HG00239\", \"HG00240\", \"HG00242\", \"HG00243\", \"HG00244\", \"HG00245\", \"HG00246\", \"HG00250\", \"HG00251\", \"HG00252\", \"HG00253\", \"HG00254\", \"HG00255\", \"HG00256\", \"HG00257\", \"HG00258\", \"HG00259\", \"HG00260\", \"HG00261\", \"HG00262\"]\n",
    "query_regions = [\"chr1:43337848-43352772\"]\n",
    "\n",
    "delayed_read = Delayed(\n",
    "        func_exec=vcf_query,\n",
    "        result_format=tiledb.cloud.UDFResultType.ARROW,\n",
    "    )(\n",
    "        uri=array_uri, \n",
    "        attrs=query_attrs, \n",
    "        regions=query_regions,\n",
    "        samples=query_samples[:10],\n",
    ")"
   ]
  },
  {
   "cell_type": "code",
   "execution_count": 27,
   "metadata": {
    "execution": {
     "iopub.execute_input": "2023-04-30T22:38:49.845847Z",
     "iopub.status.busy": "2023-04-30T22:38:49.845715Z",
     "iopub.status.idle": "2023-04-30T22:38:50.358624Z",
     "shell.execute_reply": "2023-04-30T22:38:50.358091Z"
    }
   },
   "outputs": [
    {
     "data": {
      "application/vnd.jupyter.widget-view+json": {
       "model_id": "356d07cef4374f4fa0e443273892e5fc",
       "version_major": 2,
       "version_minor": 0
      },
      "text/plain": [
       "FigureWidget({\n",
       "    'data': [{'hoverinfo': 'none',\n",
       "              'line': {'color': '#888', 'width': 0.5},\n",
       "              'mode': 'lines',\n",
       "              'type': 'scatter',\n",
       "              'uid': '45daaa7a-44d1-42c8-a20a-c32b58154b6b',\n",
       "              'x': [],\n",
       "              'y': []},\n",
       "             {'hoverinfo': 'text',\n",
       "              'marker': {'color': ['black'], 'line': {'width': 2}, 'size': 15},\n",
       "              'mode': 'markers',\n",
       "              'text': [__main__.vcf_query (xvfx) - Not Started],\n",
       "              'type': 'scatter',\n",
       "              'uid': '6d21abb1-0cbb-40b1-8c9c-aa12146b0add',\n",
       "              'x': [128.04],\n",
       "              'y': [18.0]}],\n",
       "    'layout': {'annotations': [{'showarrow': True, 'x': 0.005, 'xref': 'paper', 'y': -0.002, 'yref': 'paper'}],\n",
       "               'hovermode': 'closest',\n",
       "               'margin': {'b': 20, 'l': 5, 'r': 5, 't': 40},\n",
       "               'showlegend': False,\n",
       "               'template': '...',\n",
       "               'xaxis': {'showgrid': False, 'showticklabels': False, 'zeroline': False},\n",
       "               'yaxis': {'showgrid': False, 'showticklabels': False, 'zeroline': False}}\n",
       "})"
      ]
     },
     "execution_count": 27,
     "metadata": {},
     "output_type": "execute_result"
    }
   ],
   "source": [
    "delayed_read.visualize()"
   ]
  },
  {
   "cell_type": "markdown",
   "metadata": {},
   "source": [
    "Call `compute()` to serverlessly execute the function."
   ]
  },
  {
   "cell_type": "code",
   "execution_count": 28,
   "metadata": {
    "execution": {
     "iopub.execute_input": "2023-04-30T22:38:50.360420Z",
     "iopub.status.busy": "2023-04-30T22:38:50.360094Z",
     "iopub.status.idle": "2023-04-30T22:38:58.579713Z",
     "shell.execute_reply": "2023-04-30T22:38:58.578916Z"
    }
   },
   "outputs": [
    {
     "name": "stdout",
     "output_type": "stream",
     "text": [
      "CPU times: user 15.1 ms, sys: 3.82 ms, total: 19 ms\n",
      "Wall time: 8.21 s\n"
     ]
    },
    {
     "data": {
      "text/html": [
       "<div>\n",
       "<style scoped>\n",
       "    .dataframe tbody tr th:only-of-type {\n",
       "        vertical-align: middle;\n",
       "    }\n",
       "\n",
       "    .dataframe tbody tr th {\n",
       "        vertical-align: top;\n",
       "    }\n",
       "\n",
       "    .dataframe thead th {\n",
       "        text-align: right;\n",
       "    }\n",
       "</style>\n",
       "<table border=\"1\" class=\"dataframe\">\n",
       "  <thead>\n",
       "    <tr style=\"text-align: right;\">\n",
       "      <th></th>\n",
       "      <th>sample_name</th>\n",
       "      <th>contig</th>\n",
       "      <th>pos_start</th>\n",
       "      <th>pos_end</th>\n",
       "      <th>fmt_GT</th>\n",
       "    </tr>\n",
       "  </thead>\n",
       "  <tbody>\n",
       "    <tr>\n",
       "      <th>0</th>\n",
       "      <td>HG00099</td>\n",
       "      <td>chr1</td>\n",
       "      <td>43337743</td>\n",
       "      <td>43338411</td>\n",
       "      <td>[0, 0]</td>\n",
       "    </tr>\n",
       "    <tr>\n",
       "      <th>1</th>\n",
       "      <td>HG00106</td>\n",
       "      <td>chr1</td>\n",
       "      <td>43337749</td>\n",
       "      <td>43338055</td>\n",
       "      <td>[0, 0]</td>\n",
       "    </tr>\n",
       "    <tr>\n",
       "      <th>2</th>\n",
       "      <td>HG00102</td>\n",
       "      <td>chr1</td>\n",
       "      <td>43337756</td>\n",
       "      <td>43338088</td>\n",
       "      <td>[0, 0]</td>\n",
       "    </tr>\n",
       "    <tr>\n",
       "      <th>3</th>\n",
       "      <td>HG00097</td>\n",
       "      <td>chr1</td>\n",
       "      <td>43337791</td>\n",
       "      <td>43338053</td>\n",
       "      <td>[0, 0]</td>\n",
       "    </tr>\n",
       "    <tr>\n",
       "      <th>4</th>\n",
       "      <td>HG00100</td>\n",
       "      <td>chr1</td>\n",
       "      <td>43337812</td>\n",
       "      <td>43337850</td>\n",
       "      <td>[0, 0]</td>\n",
       "    </tr>\n",
       "    <tr>\n",
       "      <th>...</th>\n",
       "      <td>...</td>\n",
       "      <td>...</td>\n",
       "      <td>...</td>\n",
       "      <td>...</td>\n",
       "      <td>...</td>\n",
       "    </tr>\n",
       "    <tr>\n",
       "      <th>22442</th>\n",
       "      <td>HG00105</td>\n",
       "      <td>chr1</td>\n",
       "      <td>43352768</td>\n",
       "      <td>43352779</td>\n",
       "      <td>[0, 0]</td>\n",
       "    </tr>\n",
       "    <tr>\n",
       "      <th>22443</th>\n",
       "      <td>HG00106</td>\n",
       "      <td>chr1</td>\n",
       "      <td>43352769</td>\n",
       "      <td>43352769</td>\n",
       "      <td>[0, 0]</td>\n",
       "    </tr>\n",
       "    <tr>\n",
       "      <th>22444</th>\n",
       "      <td>HG00106</td>\n",
       "      <td>chr1</td>\n",
       "      <td>43352770</td>\n",
       "      <td>43352791</td>\n",
       "      <td>[0, 0]</td>\n",
       "    </tr>\n",
       "    <tr>\n",
       "      <th>22445</th>\n",
       "      <td>HG00100</td>\n",
       "      <td>chr1</td>\n",
       "      <td>43352771</td>\n",
       "      <td>43352771</td>\n",
       "      <td>[0, 0]</td>\n",
       "    </tr>\n",
       "    <tr>\n",
       "      <th>22446</th>\n",
       "      <td>HG00100</td>\n",
       "      <td>chr1</td>\n",
       "      <td>43352772</td>\n",
       "      <td>43352781</td>\n",
       "      <td>[0, 0]</td>\n",
       "    </tr>\n",
       "  </tbody>\n",
       "</table>\n",
       "<p>22447 rows × 5 columns</p>\n",
       "</div>"
      ],
      "text/plain": [
       "      sample_name contig  pos_start   pos_end  fmt_GT\n",
       "0         HG00099   chr1   43337743  43338411  [0, 0]\n",
       "1         HG00106   chr1   43337749  43338055  [0, 0]\n",
       "2         HG00102   chr1   43337756  43338088  [0, 0]\n",
       "3         HG00097   chr1   43337791  43338053  [0, 0]\n",
       "4         HG00100   chr1   43337812  43337850  [0, 0]\n",
       "...           ...    ...        ...       ...     ...\n",
       "22442     HG00105   chr1   43352768  43352779  [0, 0]\n",
       "22443     HG00106   chr1   43352769  43352769  [0, 0]\n",
       "22444     HG00106   chr1   43352770  43352791  [0, 0]\n",
       "22445     HG00100   chr1   43352771  43352771  [0, 0]\n",
       "22446     HG00100   chr1   43352772  43352781  [0, 0]\n",
       "\n",
       "[22447 rows x 5 columns]"
      ]
     },
     "execution_count": 28,
     "metadata": {},
     "output_type": "execute_result"
    }
   ],
   "source": [
    "%%time\n",
    "res1 = delayed_read.compute()\n",
    "res1.to_pandas()"
   ]
  },
  {
   "cell_type": "markdown",
   "metadata": {},
   "source": [
    "Key takeaways:\n",
    "- TileDB-VCF Datasets can be sliced directly from remote object stores\n",
    "- TileDB Cloud provides a flexible platform for building serverless data processing pipelines"
   ]
  },
  {
   "cell_type": "markdown",
   "metadata": {},
   "source": [
    "## Run Multiple Batches of Queries in Parallel "
   ]
  },
  {
   "cell_type": "markdown",
   "metadata": {},
   "source": [
    "Add another UDF to combine the outputs into a single result."
   ]
  },
  {
   "cell_type": "code",
   "execution_count": 29,
   "metadata": {
    "execution": {
     "iopub.execute_input": "2023-04-30T22:38:58.581675Z",
     "iopub.status.busy": "2023-04-30T22:38:58.581468Z",
     "iopub.status.idle": "2023-04-30T22:38:58.584099Z",
     "shell.execute_reply": "2023-04-30T22:38:58.583523Z"
    }
   },
   "outputs": [],
   "source": [
    "def combine_results(dfs): #Taking resluts and combining them into one table\n",
    "    import pyarrow as pa\n",
    "    out = pa.concat_tables([x for x in dfs if x is not None])\n",
    "    return out"
   ]
  },
  {
   "cell_type": "markdown",
   "metadata": {},
   "source": [
    "Assemble and visualize the task graph."
   ]
  },
  {
   "cell_type": "code",
   "execution_count": 30,
   "metadata": {
    "execution": {
     "iopub.execute_input": "2023-04-30T22:38:58.585580Z",
     "iopub.status.busy": "2023-04-30T22:38:58.585457Z",
     "iopub.status.idle": "2023-04-30T22:38:58.703771Z",
     "shell.execute_reply": "2023-04-30T22:38:58.703153Z"
    },
    "tags": []
   },
   "outputs": [
    {
     "data": {
      "application/vnd.jupyter.widget-view+json": {
       "model_id": "2204fde6596e41f580df800522bef4bc",
       "version_major": 2,
       "version_minor": 0
      },
      "text/plain": [
       "FigureWidget({\n",
       "    'data': [{'hoverinfo': 'none',\n",
       "              'line': {'color': '#888', 'width': 0.5},\n",
       "              'mode': 'lines',\n",
       "              'type': 'scatter',\n",
       "              'uid': '74571ffc-c0d2-44d5-aa94-0440bf0bc8b0',\n",
       "              'x': [135.19, 1400.2, None, 421.19, 1400.2, None, 706.19, 1400.2,\n",
       "                    None, 987.19, 1400.2, None, 1261.2, 1400.2, None, 1540.2,\n",
       "                    1400.2, None, 1824.2, 1400.2, None, 2107.2, 1400.2, None,\n",
       "                    2392.2, 1400.2, None, 2675.2, 1400.2, None],\n",
       "              'y': [90.0, 18.0, None, 90.0, 18.0, None, 90.0, 18.0, None, 90.0,\n",
       "                    18.0, None, 90.0, 18.0, None, 90.0, 18.0, None, 90.0, 18.0,\n",
       "                    None, 90.0, 18.0, None, 90.0, 18.0, None, 90.0, 18.0, None]},\n",
       "             {'hoverinfo': 'text',\n",
       "              'marker': {'color': [black, black, black, black, black, black,\n",
       "                                   black, black, black, black, black],\n",
       "                         'line': {'width': 2},\n",
       "                         'size': 15},\n",
       "              'mode': 'markers',\n",
       "              'text': [__main__.combine_results (wxcb) - Not Started,\n",
       "                       __main__.vcf_query (gm4p) - Not Started, __main__.vcf_query\n",
       "                       (7mtp) - Not Started, __main__.vcf_query (q9wg) - Not\n",
       "                       Started, __main__.vcf_query (zhfh) - Not Started,\n",
       "                       __main__.vcf_query (jzsd) - Not Started, __main__.vcf_query\n",
       "                       (kxxm) - Not Started, __main__.vcf_query (dmrz) - Not\n",
       "                       Started, __main__.vcf_query (fg9w) - Not Started,\n",
       "                       __main__.vcf_query (mnb3) - Not Started, __main__.vcf_query\n",
       "                       (zzqd) - Not Started],\n",
       "              'type': 'scatter',\n",
       "              'uid': 'f87b52f6-3dfd-4ff9-a9cf-14bf17bd5d6b',\n",
       "              'x': [1400.2, 135.19, 421.19, 706.19, 987.19, 1261.2, 1540.2,\n",
       "                    1824.2, 2107.2, 2392.2, 2675.2],\n",
       "              'y': [18.0, 90.0, 90.0, 90.0, 90.0, 90.0, 90.0, 90.0, 90.0, 90.0,\n",
       "                    90.0]}],\n",
       "    'layout': {'annotations': [{'showarrow': True, 'x': 0.005, 'xref': 'paper', 'y': -0.002, 'yref': 'paper'}],\n",
       "               'hovermode': 'closest',\n",
       "               'margin': {'b': 20, 'l': 5, 'r': 5, 't': 40},\n",
       "               'showlegend': False,\n",
       "               'template': '...',\n",
       "               'xaxis': {'showgrid': False, 'showticklabels': False, 'zeroline': False},\n",
       "               'yaxis': {'showgrid': False, 'showticklabels': False, 'zeroline': False}}\n",
       "})"
      ]
     },
     "execution_count": 30,
     "metadata": {},
     "output_type": "execute_result"
    }
   ],
   "source": [
    "nparts = 10\n",
    "delayed_results = []\n",
    "\n",
    "for i in range(nparts): #splitting up 100 samples into 10 partitions, that will run in parallel, only thing that changes is the sample index\n",
    "    delayed_results.append(\n",
    "        Delayed(\n",
    "            func_exec=vcf_query, \n",
    "            result_format=tiledb.cloud.UDFResultType.ARROW,\n",
    "        )(\n",
    "            uri=array_uri, \n",
    "            attrs=query_attrs,\n",
    "            regions=query_regions,\n",
    "            samples=query_samples,\n",
    "            sample_partition=(i, nparts),\n",
    "        )\n",
    "    )\n",
    "delayed_results = Delayed(combine_results, local=True)(delayed_results) #Taking all the results and combining them into a single table, via the `combine_results` function\n",
    "\n",
    "delayed_results.visualize()"
   ]
  },
  {
   "cell_type": "code",
   "execution_count": 31,
   "metadata": {
    "execution": {
     "iopub.execute_input": "2023-04-30T22:38:58.705418Z",
     "iopub.status.busy": "2023-04-30T22:38:58.705319Z",
     "iopub.status.idle": "2023-04-30T22:39:07.999223Z",
     "shell.execute_reply": "2023-04-30T22:39:07.998635Z"
    }
   },
   "outputs": [
    {
     "name": "stdout",
     "output_type": "stream",
     "text": [
      "CPU times: user 112 ms, sys: 26.7 ms, total: 139 ms\n",
      "Wall time: 9.29 s\n"
     ]
    },
    {
     "data": {
      "text/html": [
       "<div>\n",
       "<style scoped>\n",
       "    .dataframe tbody tr th:only-of-type {\n",
       "        vertical-align: middle;\n",
       "    }\n",
       "\n",
       "    .dataframe tbody tr th {\n",
       "        vertical-align: top;\n",
       "    }\n",
       "\n",
       "    .dataframe thead th {\n",
       "        text-align: right;\n",
       "    }\n",
       "</style>\n",
       "<table border=\"1\" class=\"dataframe\">\n",
       "  <thead>\n",
       "    <tr style=\"text-align: right;\">\n",
       "      <th></th>\n",
       "      <th>sample_name</th>\n",
       "      <th>contig</th>\n",
       "      <th>pos_start</th>\n",
       "      <th>pos_end</th>\n",
       "      <th>fmt_GT</th>\n",
       "    </tr>\n",
       "  </thead>\n",
       "  <tbody>\n",
       "    <tr>\n",
       "      <th>0</th>\n",
       "      <td>HG00099</td>\n",
       "      <td>chr1</td>\n",
       "      <td>43337743</td>\n",
       "      <td>43338411</td>\n",
       "      <td>[0, 0]</td>\n",
       "    </tr>\n",
       "    <tr>\n",
       "      <th>1</th>\n",
       "      <td>HG00106</td>\n",
       "      <td>chr1</td>\n",
       "      <td>43337749</td>\n",
       "      <td>43338055</td>\n",
       "      <td>[0, 0]</td>\n",
       "    </tr>\n",
       "    <tr>\n",
       "      <th>2</th>\n",
       "      <td>HG00102</td>\n",
       "      <td>chr1</td>\n",
       "      <td>43337756</td>\n",
       "      <td>43338088</td>\n",
       "      <td>[0, 0]</td>\n",
       "    </tr>\n",
       "    <tr>\n",
       "      <th>3</th>\n",
       "      <td>HG00097</td>\n",
       "      <td>chr1</td>\n",
       "      <td>43337791</td>\n",
       "      <td>43338053</td>\n",
       "      <td>[0, 0]</td>\n",
       "    </tr>\n",
       "    <tr>\n",
       "      <th>4</th>\n",
       "      <td>HG00100</td>\n",
       "      <td>chr1</td>\n",
       "      <td>43337812</td>\n",
       "      <td>43337850</td>\n",
       "      <td>[0, 0]</td>\n",
       "    </tr>\n",
       "    <tr>\n",
       "      <th>...</th>\n",
       "      <td>...</td>\n",
       "      <td>...</td>\n",
       "      <td>...</td>\n",
       "      <td>...</td>\n",
       "      <td>...</td>\n",
       "    </tr>\n",
       "    <tr>\n",
       "      <th>216254</th>\n",
       "      <td>HG00260</td>\n",
       "      <td>chr1</td>\n",
       "      <td>43352762</td>\n",
       "      <td>43352785</td>\n",
       "      <td>[0, 0]</td>\n",
       "    </tr>\n",
       "    <tr>\n",
       "      <th>216255</th>\n",
       "      <td>HG00262</td>\n",
       "      <td>chr1</td>\n",
       "      <td>43352762</td>\n",
       "      <td>43352766</td>\n",
       "      <td>[0, 0]</td>\n",
       "    </tr>\n",
       "    <tr>\n",
       "      <th>216256</th>\n",
       "      <td>HG00261</td>\n",
       "      <td>chr1</td>\n",
       "      <td>43352766</td>\n",
       "      <td>43352769</td>\n",
       "      <td>[0, 0]</td>\n",
       "    </tr>\n",
       "    <tr>\n",
       "      <th>216257</th>\n",
       "      <td>HG00262</td>\n",
       "      <td>chr1</td>\n",
       "      <td>43352767</td>\n",
       "      <td>43352775</td>\n",
       "      <td>[0, 0]</td>\n",
       "    </tr>\n",
       "    <tr>\n",
       "      <th>216258</th>\n",
       "      <td>HG00261</td>\n",
       "      <td>chr1</td>\n",
       "      <td>43352770</td>\n",
       "      <td>43352779</td>\n",
       "      <td>[0, 0]</td>\n",
       "    </tr>\n",
       "  </tbody>\n",
       "</table>\n",
       "<p>216259 rows × 5 columns</p>\n",
       "</div>"
      ],
      "text/plain": [
       "       sample_name contig  pos_start   pos_end  fmt_GT\n",
       "0          HG00099   chr1   43337743  43338411  [0, 0]\n",
       "1          HG00106   chr1   43337749  43338055  [0, 0]\n",
       "2          HG00102   chr1   43337756  43338088  [0, 0]\n",
       "3          HG00097   chr1   43337791  43338053  [0, 0]\n",
       "4          HG00100   chr1   43337812  43337850  [0, 0]\n",
       "...            ...    ...        ...       ...     ...\n",
       "216254     HG00260   chr1   43352762  43352785  [0, 0]\n",
       "216255     HG00262   chr1   43352762  43352766  [0, 0]\n",
       "216256     HG00261   chr1   43352766  43352769  [0, 0]\n",
       "216257     HG00262   chr1   43352767  43352775  [0, 0]\n",
       "216258     HG00261   chr1   43352770  43352779  [0, 0]\n",
       "\n",
       "[216259 rows x 5 columns]"
      ]
     },
     "execution_count": 31,
     "metadata": {},
     "output_type": "execute_result"
    }
   ],
   "source": [
    "%%time\n",
    "res2 = delayed_results.compute()\n",
    "res2.to_pandas()"
   ]
  },
  {
   "cell_type": "markdown",
   "metadata": {},
   "source": [
    "Key takeaways:\n",
    "- TileDB Cloud's serverless infrastructure makes it easy to setup and run large scale distributed queries"
   ]
  }
 ],
 "metadata": {
  "kernelspec": {
   "display_name": "Python 3 (ipykernel)",
   "language": "python",
   "name": "python3"
  },
  "language_info": {
   "codemirror_mode": {
    "name": "ipython",
    "version": 3
   },
   "file_extension": ".py",
   "mimetype": "text/x-python",
   "name": "python",
   "nbconvert_exporter": "python",
   "pygments_lexer": "ipython3",
   "version": "3.7.12"
  },
  "widgets": {
   "application/vnd.jupyter.widget-state+json": {
    "state": {
     "2204fde6596e41f580df800522bef4bc": {
      "model_module": "jupyterlab-plotly",
      "model_module_version": "^5.14.1",
      "model_name": "FigureModel",
      "state": {
       "_config": {
        "plotlyServerURL": "https://plot.ly"
       },
       "_data": [
        {
         "hoverinfo": "none",
         "line": {
          "color": "#888",
          "width": 0.5
         },
         "mode": "lines",
         "type": "scatter",
         "uid": "74571ffc-c0d2-44d5-aa94-0440bf0bc8b0",
         "x": [
          135.19,
          1400.2,
          null,
          421.19,
          1400.2,
          null,
          706.19,
          1400.2,
          null,
          987.19,
          1400.2,
          null,
          1261.2,
          1400.2,
          null,
          1540.2,
          1400.2,
          null,
          1824.2,
          1400.2,
          null,
          2107.2,
          1400.2,
          null,
          2392.2,
          1400.2,
          null,
          2675.2,
          1400.2,
          null
         ],
         "y": [
          90.0,
          18.0,
          null,
          90.0,
          18.0,
          null,
          90.0,
          18.0,
          null,
          90.0,
          18.0,
          null,
          90.0,
          18.0,
          null,
          90.0,
          18.0,
          null,
          90.0,
          18.0,
          null,
          90.0,
          18.0,
          null,
          90.0,
          18.0,
          null,
          90.0,
          18.0,
          null
         ]
        },
        {
         "hoverinfo": "text",
         "marker": {
          "color": [
           "black",
           "black",
           "black",
           "black",
           "black",
           "black",
           "black",
           "black",
           "black",
           "black",
           "black"
          ],
          "line": {
           "width": 2
          },
          "size": 15
         },
         "mode": "markers",
         "text": [
          "__main__.combine_results (wxcb) - Not Started",
          "__main__.vcf_query (gm4p) - Not Started",
          "__main__.vcf_query (7mtp) - Not Started",
          "__main__.vcf_query (q9wg) - Not Started",
          "__main__.vcf_query (zhfh) - Not Started",
          "__main__.vcf_query (jzsd) - Not Started",
          "__main__.vcf_query (kxxm) - Not Started",
          "__main__.vcf_query (dmrz) - Not Started",
          "__main__.vcf_query (fg9w) - Not Started",
          "__main__.vcf_query (mnb3) - Not Started",
          "__main__.vcf_query (zzqd) - Not Started"
         ],
         "type": "scatter",
         "uid": "f87b52f6-3dfd-4ff9-a9cf-14bf17bd5d6b",
         "x": [
          1400.2,
          135.19,
          421.19,
          706.19,
          987.19,
          1261.2,
          1540.2,
          1824.2,
          2107.2,
          2392.2,
          2675.2
         ],
         "y": [
          18.0,
          90.0,
          90.0,
          90.0,
          90.0,
          90.0,
          90.0,
          90.0,
          90.0,
          90.0,
          90.0
         ]
        }
       ],
       "_dom_classes": [],
       "_js2py_layoutDelta": {},
       "_js2py_pointsCallback": {},
       "_js2py_relayout": {},
       "_js2py_restyle": {},
       "_js2py_traceDeltas": {},
       "_js2py_update": {},
       "_last_layout_edit_id": 12,
       "_last_trace_edit_id": 12,
       "_layout": {
        "annotations": [
         {
          "showarrow": true,
          "x": 0.005,
          "xref": "paper",
          "y": -0.002,
          "yref": "paper"
         }
        ],
        "hovermode": "closest",
        "margin": {
         "b": 20,
         "l": 5,
         "r": 5,
         "t": 40
        },
        "showlegend": false,
        "xaxis": {
         "showgrid": false,
         "showticklabels": false,
         "zeroline": false
        },
        "yaxis": {
         "showgrid": false,
         "showticklabels": false,
         "zeroline": false
        }
       },
       "_model_module": "jupyterlab-plotly",
       "_model_module_version": "^5.14.1",
       "_model_name": "FigureModel",
       "_py2js_addTraces": {},
       "_py2js_animate": {},
       "_py2js_deleteTraces": {},
       "_py2js_moveTraces": {},
       "_py2js_relayout": null,
       "_py2js_removeLayoutProps": {},
       "_py2js_removeTraceProps": {},
       "_py2js_restyle": {},
       "_py2js_update": null,
       "_view_count": 0,
       "_view_module": "jupyterlab-plotly",
       "_view_module_version": "^5.14.1",
       "_view_name": "FigureView",
       "tabbable": null,
       "tooltip": null
      }
     },
     "356d07cef4374f4fa0e443273892e5fc": {
      "model_module": "jupyterlab-plotly",
      "model_module_version": "^5.14.1",
      "model_name": "FigureModel",
      "state": {
       "_config": {
        "plotlyServerURL": "https://plot.ly"
       },
       "_data": [
        {
         "hoverinfo": "none",
         "line": {
          "color": "#888",
          "width": 0.5
         },
         "mode": "lines",
         "type": "scatter",
         "uid": "45daaa7a-44d1-42c8-a20a-c32b58154b6b",
         "x": [],
         "y": []
        },
        {
         "hoverinfo": "text",
         "marker": {
          "color": [
           "black"
          ],
          "line": {
           "width": 2
          },
          "size": 15
         },
         "mode": "markers",
         "text": [
          "__main__.vcf_query (xvfx) - Not Started"
         ],
         "type": "scatter",
         "uid": "6d21abb1-0cbb-40b1-8c9c-aa12146b0add",
         "x": [
          128.04
         ],
         "y": [
          18.0
         ]
        }
       ],
       "_dom_classes": [],
       "_js2py_layoutDelta": {},
       "_js2py_pointsCallback": {},
       "_js2py_relayout": {},
       "_js2py_restyle": {},
       "_js2py_traceDeltas": {},
       "_js2py_update": {},
       "_last_layout_edit_id": 2,
       "_last_trace_edit_id": 2,
       "_layout": {
        "annotations": [
         {
          "showarrow": true,
          "x": 0.005,
          "xref": "paper",
          "y": -0.002,
          "yref": "paper"
         }
        ],
        "hovermode": "closest",
        "margin": {
         "b": 20,
         "l": 5,
         "r": 5,
         "t": 40
        },
        "showlegend": false,
        "xaxis": {
         "showgrid": false,
         "showticklabels": false,
         "zeroline": false
        },
        "yaxis": {
         "showgrid": false,
         "showticklabels": false,
         "zeroline": false
        }
       },
       "_model_module": "jupyterlab-plotly",
       "_model_module_version": "^5.14.1",
       "_model_name": "FigureModel",
       "_py2js_addTraces": {},
       "_py2js_animate": {},
       "_py2js_deleteTraces": {},
       "_py2js_moveTraces": {},
       "_py2js_relayout": null,
       "_py2js_removeLayoutProps": {},
       "_py2js_removeTraceProps": {},
       "_py2js_restyle": {},
       "_py2js_update": null,
       "_view_count": 0,
       "_view_module": "jupyterlab-plotly",
       "_view_module_version": "^5.14.1",
       "_view_name": "FigureView",
       "tabbable": null,
       "tooltip": null
      }
     }
    },
    "version_major": 2,
    "version_minor": 0
   }
  }
 },
 "nbformat": 4,
 "nbformat_minor": 4
}
