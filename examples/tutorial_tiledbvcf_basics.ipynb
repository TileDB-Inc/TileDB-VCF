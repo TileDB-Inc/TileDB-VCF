{
    "metadata": {
        "kernelspec": {
            "display_name": "Python 3 (ipykernel)",
            "language": "python",
            "name": "python3"
        },
        "language_info": {
            "name": "python",
            "version": "3.9.16",
            "mimetype": "text/x-python",
            "codemirror_mode": {
                "name": "ipython",
                "version": 3
            },
            "pygments_lexer": "ipython3",
            "nbconvert_exporter": "python",
            "file_extension": ".py"
        }
    },
    "nbformat_minor": 4,
    "nbformat": 4,
    "cells": [
        {
            "cell_type": "markdown",
            "source": "# TileDB-VCF Tutorial\n\n**This notebook will cover how to:**\n\n- ingest S3 hosted VCF files directly into TileDB-VCF\n- query variant data from TileDB using genomic ranges\n- query variant data and export results to single and group VCFs\n- perform distributed queries via TileDB Cloud\n\n# 1. Setup\n\n## Packages",
            "metadata": {}
        },
        {
            "cell_type": "code",
            "source": "import os\nimport tiledb\nimport tiledb.cloud\nimport tiledbvcf\nimport numpy as np\n\nprint(\n    f\"tiledb v{tiledb.version.version}\\n\"\n    f\"numpy v{np.__version__}\\n\"\n    # f\"tiledb-vcf v{tiledbvcf.version}\\n\"\n    f\"tiledb-cloud v{tiledb.cloud.version.version}\\n\"\n)",
            "metadata": {
                "tags": []
            },
            "execution_count": 1,
            "outputs": [
                {
                    "name": "stdout",
                    "text": "tiledb v0.20.0\nnumpy v1.23.5\ntiledb-cloud v0.9.5\n\n",
                    "output_type": "stream"
                }
            ]
        },
        {
            "cell_type": "markdown",
            "source": "Setup TileDB's virtual file system.",
            "metadata": {
                "tags": []
            }
        },
        {
            "cell_type": "code",
            "source": "vfs = tiledb.VFS(config=tiledb.Config())",
            "metadata": {},
            "execution_count": 2,
            "outputs": []
        },
        {
            "cell_type": "markdown",
            "source": "# 2. Storing VCF Data with TileDB\n\nSpecify a location for the new array.",
            "metadata": {}
        },
        {
            "cell_type": "code",
            "source": "array_uri = \"/tmp/demo-arraylocal\"",
            "metadata": {},
            "execution_count": 3,
            "outputs": []
        },
        {
            "cell_type": "markdown",
            "source": "Have we run this notebook before? If so, delete the existing array to start fresh.",
            "metadata": {}
        },
        {
            "cell_type": "code",
            "source": "if (vfs.is_dir(array_uri)):\n    print(f\"Deleting existing array '{array_uri}'\")\n    vfs.remove_dir(array_uri)\n    print(\"Done.\")",
            "metadata": {},
            "execution_count": 4,
            "outputs": []
        },
        {
            "cell_type": "markdown",
            "source": "## Example VCF Files\n\nTileDB-VCF inherits TileDB's native support for working with remote object stores, so we can ingest samples directly from remote services like AWS S3, Google Cloud, and Azure. Here, we'll use single sample BCF files with chromosome 1 data for phase 3 samples from the 1KG project stored in a publicly readable S3 bucket.",
            "metadata": {}
        },
        {
            "cell_type": "code",
            "source": "vcf_bucket = \"s3://tiledb-inc-demo-data/examples/notebooks/vcfs/1kgp3-chr1\"",
            "metadata": {},
            "execution_count": 5,
            "outputs": []
        },
        {
            "cell_type": "markdown",
            "source": "For demonstration purposes we'll ingest individual batches of samples one at a time. To do this, we'll create a list of S3 URIs pointing to 5 sample BCF files.",
            "metadata": {}
        },
        {
            "cell_type": "code",
            "source": "batch1_samples = [\"HG00096.bcf\", \"HG00097.bcf\", \"HG00099.bcf\", \"HG00100.bcf\", \"HG00101.bcf\"]\nbatch1_uris = [f\"{vcf_bucket}/{s}\" for s in batch1_samples]\nbatch1_uris",
            "metadata": {
                "tags": []
            },
            "execution_count": 6,
            "outputs": [
                {
                    "execution_count": 6,
                    "output_type": "execute_result",
                    "data": {
                        "text/plain": "['s3://tiledb-inc-demo-data/examples/notebooks/vcfs/1kgp3-chr1/HG00096.bcf',\n 's3://tiledb-inc-demo-data/examples/notebooks/vcfs/1kgp3-chr1/HG00097.bcf',\n 's3://tiledb-inc-demo-data/examples/notebooks/vcfs/1kgp3-chr1/HG00099.bcf',\n 's3://tiledb-inc-demo-data/examples/notebooks/vcfs/1kgp3-chr1/HG00100.bcf',\n 's3://tiledb-inc-demo-data/examples/notebooks/vcfs/1kgp3-chr1/HG00101.bcf']"
                    },
                    "metadata": {}
                }
            ]
        },
        {
            "cell_type": "markdown",
            "source": "# 2. Create and Populate a TileDB-VCF Dataset\n\n## Create a New Dataset\n\nBefore we can ingest VCF data into TileDB we must first create our new dataset. First, we'll create a TileDB-VCF `Dataset` instance that opens a connection to our desired `array_uri` in write mode.",
            "metadata": {}
        },
        {
            "cell_type": "code",
            "source": "ds = tiledbvcf.Dataset(uri=array_uri, mode=\"w\")\nds",
            "metadata": {},
            "execution_count": 7,
            "outputs": [
                {
                    "execution_count": 7,
                    "output_type": "execute_result",
                    "data": {
                        "text/plain": "<tiledbvcf.dataset.Dataset at 0x7f3f205158e0>"
                    },
                    "metadata": {}
                }
            ]
        },
        {
            "cell_type": "markdown",
            "source": "Next, we'll create the empty TileDB-VCF dataset. \n\n*Note: We can optionally pass a VCF file to the `vcf_attrs` argument to automatically materialize all of the `INFO` and `FORMAT` fields as separate attributes in the array (rather than htslib-encoded blobs), which can improve query performance.*",
            "metadata": {}
        },
        {
            "cell_type": "code",
            "source": "ds.create_dataset(vcf_attrs=batch1_uris[0], enable_allele_count=True, enable_variant_stats=True)\n\n# verify the array exists\nos.listdir(array_uri)",
            "metadata": {},
            "execution_count": 8,
            "outputs": [
                {
                    "execution_count": 8,
                    "output_type": "execute_result",
                    "data": {
                        "text/plain": "['__tiledb_group.tdb',\n '__meta',\n '__group',\n 'metadata',\n 'data',\n 'allele_count',\n 'variant_stats']"
                    },
                    "metadata": {}
                }
            ]
        },
        {
            "cell_type": "markdown",
            "source": "## Ingest Initial Batch of 5 VCF Files",
            "metadata": {}
        },
        {
            "cell_type": "markdown",
            "source": "With the empty TileDB-VCF dataset created we can now ingest our first batch of samples.",
            "metadata": {}
        },
        {
            "cell_type": "code",
            "source": "%%time\nds.ingest_samples(sample_uris = batch1_uris)",
            "metadata": {},
            "execution_count": 9,
            "outputs": [
                {
                    "name": "stdout",
                    "text": "CPU times: user 20.2 s, sys: 5.06 s, total: 25.2 s\nWall time: 42.6 s\n",
                    "output_type": "stream"
                }
            ]
        },
        {
            "cell_type": "markdown",
            "source": "This should take approximately 30s when ingesting from S3. Note most of this time is spent streaming the data, ingesting local copies of these files takes about 12s. \n\nWe can verify the samples were ingested by listing the sample IDs contained within the new array:",
            "metadata": {}
        },
        {
            "cell_type": "code",
            "source": "ds = tiledbvcf.Dataset(array_uri, mode = \"r\")\nds.samples()",
            "metadata": {},
            "execution_count": 10,
            "outputs": [
                {
                    "execution_count": 10,
                    "output_type": "execute_result",
                    "data": {
                        "text/plain": "['HG00096', 'HG00097', 'HG00099', 'HG00100', 'HG00101']"
                    },
                    "metadata": {}
                }
            ]
        },
        {
            "cell_type": "markdown",
            "source": "## Ingest a Second Batch of 5 VCF Files\n\nUpdate the existing TileDB-VCF dataset with a second batch of samples.",
            "metadata": {}
        },
        {
            "cell_type": "code",
            "source": "batch2_samples = [\"HG00102.bcf\", \"HG00103.bcf\", \"HG00105.bcf\", \"HG00106.bcf\", \"HG00107.bcf\"]\nbatch2_uris = [f\"{vcf_bucket}/{s}\" for s in batch2_samples]\nbatch2_uris",
            "metadata": {},
            "execution_count": 11,
            "outputs": [
                {
                    "execution_count": 11,
                    "output_type": "execute_result",
                    "data": {
                        "text/plain": "['s3://tiledb-inc-demo-data/examples/notebooks/vcfs/1kgp3-chr1/HG00102.bcf',\n 's3://tiledb-inc-demo-data/examples/notebooks/vcfs/1kgp3-chr1/HG00103.bcf',\n 's3://tiledb-inc-demo-data/examples/notebooks/vcfs/1kgp3-chr1/HG00105.bcf',\n 's3://tiledb-inc-demo-data/examples/notebooks/vcfs/1kgp3-chr1/HG00106.bcf',\n 's3://tiledb-inc-demo-data/examples/notebooks/vcfs/1kgp3-chr1/HG00107.bcf']"
                    },
                    "metadata": {}
                }
            ]
        },
        {
            "cell_type": "markdown",
            "source": "The process is identical: we need to reopen the `Dataset` in write mode and then pass another list of VCF URIs to `ingest_samples()`.",
            "metadata": {}
        },
        {
            "cell_type": "code",
            "source": "%%time \nds = tiledbvcf.Dataset(uri=array_uri, mode=\"w\") #Incremental update to the array, previous data is not touched \nds.ingest_samples(sample_uris = batch2_uris)",
            "metadata": {},
            "execution_count": 12,
            "outputs": [
                {
                    "name": "stdout",
                    "text": "CPU times: user 20.8 s, sys: 3.94 s, total: 24.8 s\nWall time: 41.6 s\n",
                    "output_type": "stream"
                }
            ]
        },
        {
            "cell_type": "code",
            "source": "ds = tiledbvcf.Dataset(array_uri, mode = \"r\") #Open array in read mode, and print out the samples we just ingested to verify\nds.samples()",
            "metadata": {},
            "execution_count": 67,
            "outputs": [
                {
                    "execution_count": 67,
                    "output_type": "execute_result",
                    "data": {
                        "text/plain": "['HG00096',\n 'HG00097',\n 'HG00099',\n 'HG00100',\n 'HG00101',\n 'HG00102',\n 'HG00103',\n 'HG00105',\n 'HG00106',\n 'HG00107']"
                    },
                    "metadata": {}
                }
            ]
        },
        {
            "cell_type": "markdown",
            "source": "Key takeaways:\n- new samples are easily added to existing datasets\n- incremental updates are extremely efficient",
            "metadata": {}
        },
        {
            "cell_type": "markdown",
            "source": "# 3. Basic TileDB-VCF Query\n\nOpen the array in *read* mode, and display attributes",
            "metadata": {}
        },
        {
            "cell_type": "code",
            "source": "%%time\nregions = [\"1:11106535-11262551\"]",
            "metadata": {},
            "execution_count": 68,
            "outputs": [
                {
                    "name": "stdout",
                    "text": "CPU times: user 25 µs, sys: 6 µs, total: 31 µs\nWall time: 59.1 µs\n",
                    "output_type": "stream"
                }
            ]
        },
        {
            "cell_type": "markdown",
            "source": "Query for all variants located within *MTOR1* for a particular sample and return the results as a `Pandas.Dataframe`, which each row is a variant indexed by the chromosome, chromosome position, and sample.",
            "metadata": {}
        },
        {
            "cell_type": "code",
            "source": "%%time\ndf = ds.read(\n    regions = regions,\n    samples = [\"HG00096\"],\n    attrs = [\"sample_name\", \"contig\", \"pos_start\", \"pos_end\", \"fmt_GT\"],\n)\ndf",
            "metadata": {},
            "execution_count": 69,
            "outputs": [
                {
                    "name": "stdout",
                    "text": "CPU times: user 72.8 ms, sys: 113 ms, total: 185 ms\nWall time: 135 ms\n",
                    "output_type": "stream"
                },
                {
                    "execution_count": 69,
                    "output_type": "execute_result",
                    "data": {
                        "text/plain": "    sample_name contig  pos_start   pos_end  fmt_GT\n0       HG00096      1   11107439  11107439  [1, 1]\n1       HG00096      1   11111976  11111979  [0, 1]\n2       HG00096      1   11112836  11112836  [0, 1]\n3       HG00096      1   11115299  11115299  [0, 1]\n4       HG00096      1   11117536  11117536  [0, 1]\n..          ...    ...        ...       ...     ...\n119     HG00096      1   11254006  11254007  [0, 1]\n120     HG00096      1   11260848  11260848  [0, 1]\n121     HG00096      1   11261929  11261929  [0, 1]\n122     HG00096      1   11262020  11262020  [0, 1]\n123     HG00096      1   11262310  11262310  [0, 1]\n\n[124 rows x 5 columns]",
                        "text/html": "<div>\n<style scoped>\n    .dataframe tbody tr th:only-of-type {\n        vertical-align: middle;\n    }\n\n    .dataframe tbody tr th {\n        vertical-align: top;\n    }\n\n    .dataframe thead th {\n        text-align: right;\n    }\n</style>\n<table border=\"1\" class=\"dataframe\">\n  <thead>\n    <tr style=\"text-align: right;\">\n      <th></th>\n      <th>sample_name</th>\n      <th>contig</th>\n      <th>pos_start</th>\n      <th>pos_end</th>\n      <th>fmt_GT</th>\n    </tr>\n  </thead>\n  <tbody>\n    <tr>\n      <th>0</th>\n      <td>HG00096</td>\n      <td>1</td>\n      <td>11107439</td>\n      <td>11107439</td>\n      <td>[1, 1]</td>\n    </tr>\n    <tr>\n      <th>1</th>\n      <td>HG00096</td>\n      <td>1</td>\n      <td>11111976</td>\n      <td>11111979</td>\n      <td>[0, 1]</td>\n    </tr>\n    <tr>\n      <th>2</th>\n      <td>HG00096</td>\n      <td>1</td>\n      <td>11112836</td>\n      <td>11112836</td>\n      <td>[0, 1]</td>\n    </tr>\n    <tr>\n      <th>3</th>\n      <td>HG00096</td>\n      <td>1</td>\n      <td>11115299</td>\n      <td>11115299</td>\n      <td>[0, 1]</td>\n    </tr>\n    <tr>\n      <th>4</th>\n      <td>HG00096</td>\n      <td>1</td>\n      <td>11117536</td>\n      <td>11117536</td>\n      <td>[0, 1]</td>\n    </tr>\n    <tr>\n      <th>...</th>\n      <td>...</td>\n      <td>...</td>\n      <td>...</td>\n      <td>...</td>\n      <td>...</td>\n    </tr>\n    <tr>\n      <th>119</th>\n      <td>HG00096</td>\n      <td>1</td>\n      <td>11254006</td>\n      <td>11254007</td>\n      <td>[0, 1]</td>\n    </tr>\n    <tr>\n      <th>120</th>\n      <td>HG00096</td>\n      <td>1</td>\n      <td>11260848</td>\n      <td>11260848</td>\n      <td>[0, 1]</td>\n    </tr>\n    <tr>\n      <th>121</th>\n      <td>HG00096</td>\n      <td>1</td>\n      <td>11261929</td>\n      <td>11261929</td>\n      <td>[0, 1]</td>\n    </tr>\n    <tr>\n      <th>122</th>\n      <td>HG00096</td>\n      <td>1</td>\n      <td>11262020</td>\n      <td>11262020</td>\n      <td>[0, 1]</td>\n    </tr>\n    <tr>\n      <th>123</th>\n      <td>HG00096</td>\n      <td>1</td>\n      <td>11262310</td>\n      <td>11262310</td>\n      <td>[0, 1]</td>\n    </tr>\n  </tbody>\n</table>\n<p>124 rows × 5 columns</p>\n</div>"
                    },
                    "metadata": {}
                }
            ]
        },
        {
            "cell_type": "markdown",
            "source": "# 4. Exporting to (g)VCF\n\nHere we're running the same query for an individual sample but exporting the results to a new VCF file.",
            "metadata": {}
        },
        {
            "cell_type": "code",
            "source": "ds.export(\n    regions = ['1:10177-24924'],\n    samples = ['HG00101'],\n    output_format = 'v',\n    output_dir = '/tmp/'\n)",
            "metadata": {
                "tags": []
            },
            "execution_count": 70,
            "outputs": []
        },
        {
            "cell_type": "markdown",
            "source": "We can `bcftools` to examine the newly generated VCF.",
            "metadata": {}
        },
        {
            "cell_type": "code",
            "source": "!bcftools view --no-header /tmp/HG00101.vcf | head -10",
            "metadata": {
                "tags": []
            },
            "execution_count": 71,
            "outputs": [
                {
                    "name": "stdout",
                    "text": "1\t10352\trs555500075\tT\tTA\t100\tPASS\tEND=10352;DP=88915;AN=2;VT=INDEL;AC=1;AA=|||unknown(NO_COVERAGE)\tGT\t1|0\n1\t10616\trs376342519\tCCGCCGTTGCAAAGGCGCGCCG\tC\t100\tPASS\tEND=10637;DP=2365;AN=2;VT=INDEL;AC=2\tGT\t1|1\n1\t13116\trs62635286\tT\tG\t100\tPASS\tEND=13116;DP=22340;AN=2;VT=SNP;AC=1;AA=t|||\tGT\t1|0\n1\t13118\trs200579949\tA\tG\t100\tPASS\tEND=13118;DP=21395;AN=2;VT=SNP;AC=1;AA=a|||\tGT\t1|0\n1\t14930\trs75454623\tA\tG\t100\tPASS\tEND=14930;DP=42231;AN=2;VT=SNP;AC=1;AA=a|||\tGT\t1|0\n1\t15211\trs78601809\tT\tG\t100\tPASS\tEND=15211;DP=32245;AN=2;VT=SNP;AC=1;AA=t|||\tGT\t1|0\n1\t15274\trs62636497\tA\tG,T\t100\tPASS\tEND=15274;MULTI_ALLELIC=SNP;DP=23255;AN=2;VT=SNP;AC=1,1;AA=g|||\tGT\t1|2\n1\t15903\trs557514207\tG\tGC\t100\tPASS\tEND=15903;DP=7012;EX_TARGET=INDE;AN=2;VT=INDEL;AC=1;AA=ccc|CC|CCC|deletion\tGT\t0|1\n1\t16949\trs199745162\tA\tC\t100\tPASS\tEND=16949;DP=41674;EX_TARGET=SNP;AN=2;VT=SNP;AC=1;AA=a|||\tGT\t0|1\n1\t18849\trs533090414\tC\tG\t100\tPASS\tEND=18849;DP=4700;AN=2;VT=SNP;AC=2;AA=g|||\tGT\t1|1\n",
                    "output_type": "stream"
                }
            ]
        },
        {
            "cell_type": "markdown",
            "source": "Now let's modify the query to again include multiple samples and then export the results as a multi-sample VCF file.",
            "metadata": {}
        },
        {
            "cell_type": "code",
            "source": "%%time\nds.export(\n    regions = ['1:10177-24924'],\n    samples = ds.samples()[0:5],\n    merge = True,\n    output_format = 'v',\n    output_path = '/tmp/combined.vcf',\n)",
            "metadata": {
                "tags": []
            },
            "execution_count": 72,
            "outputs": [
                {
                    "name": "stdout",
                    "text": "CPU times: user 105 ms, sys: 136 ms, total: 241 ms\nWall time: 210 ms\n",
                    "output_type": "stream"
                }
            ]
        },
        {
            "cell_type": "markdown",
            "source": "Again, we can use `bcftools` to examine it.",
            "metadata": {
                "tags": []
            }
        },
        {
            "cell_type": "code",
            "source": "!bcftools view --no-header /tmp/combined.vcf | head -10",
            "metadata": {
                "tags": []
            },
            "execution_count": 73,
            "outputs": [
                {
                    "name": "stdout",
                    "text": "1\t10177\trs367896724\tA\tAC\t100\tPASS\tAC=4;VT=INDEL;AN=8;DP=412608;AA=|||u�;END=10177\tGT\t1|0\t0|1\t0|1\t1|0\t./.\n1\t10352\trs555500075\tT\tTA\t100\tPASS\tAC=5;VT=INDEL;AN=10;DP=444575;AA=|||u\u0014V;END=10352\tGT\t1|0\t1|0\t0|1\t0|1\t1|0\n1\t10616\trs376342519\tCCGCCGTTGCAAAGGCGCGCCG\tC\t100\tPASS\tAC=10;VT=INDEL;AN=10;DP=11825;END=10637\tGT\t1|1\t1|1\t1|1\t1|1\t1|1\n1\t13110\trs540538026\tG\tA\t100\tPASS\tAC=1;VT=SNP;AN=2;DP=23422;AA=g|||\u0014V;END=13110\tGT\t./.\t1|0\t./.\t./.\t./.\n1\t13116\trs62635286\tT\tG\t100\tPASS\tAC=2;VT=SNP;AN=4;DP=44680;AA=t|||\u0014V;END=13116\tGT\t./.\t1|0\t./.\t./.\t1|0\n1\t13118\trs200579949\tA\tG\t100\tPASS\tAC=2;VT=SNP;AN=4;DP=42790;AA=a|||\u0014V;END=13118\tGT\t./.\t1|0\t./.\t./.\t1|0\n1\t14464\trs546169444\tA\tT\t100\tPASS\tAC=3;VT=SNP;AN=4;DP=53522;AA=a|||\u0014V;END=14464\tGT\t1|1\t./.\t1|0\t./.\t./.\n1\t14599\trs531646671\tT\tA\t100\tPASS\tAC=2;VT=SNP;AN=4;DP=64162;AA=t|||\u0014V;END=14599\tGT\t./.\t0|1\t1|0\t./.\t./.\n1\t14604\trs541940975\tA\tG\t100\tPASS\tAC=2;VT=SNP;AN=4;DP=58462;AA=a|||\u0014V;END=14604\tGT\t./.\t0|1\t1|0\t./.\t./.\n1\t14930\trs75454623\tA\tG\t100\tPASS\tAC=5;VT=SNP;AN=10;DP=211155;AA=a|||\u0014V;END=14930\tGT\t1|0\t0|1\t0|1\t1|0\t1|0\n",
                    "output_type": "stream"
                }
            ]
        },
        {
            "cell_type": "markdown",
            "source": "Key take aways:\n- slice efficiently by genomic region and/or sample\n- selectively retrieve specific VCF attributes\n- queries are returned as pyarrow Tables or pandas DataFrames\n- query and export results to single and combined VCFs",
            "metadata": {}
        },
        {
            "cell_type": "markdown",
            "source": "# 5. Partitioned Queries",
            "metadata": {
                "tags": []
            }
        },
        {
            "cell_type": "markdown",
            "source": "Large queries can be split into partitions of regions, samples, or both by setting the appropriate partitioning parameter, which consists of 2 integers:\n1. The partition index\n2. The number of partitions\n\n### Query Sample Partition 1\n\nOpen the array in *read* mode with the `sample_partition` parameter set to query the 1st of 2 sample partitions.",
            "metadata": {
                "tags": []
            }
        },
        {
            "cell_type": "code",
            "source": "cfg = tiledbvcf.ReadConfig(sample_partition=(0, 2))\nds = tiledbvcf.Dataset(array_uri, mode=\"r\", cfg=cfg)",
            "metadata": {},
            "execution_count": 21,
            "outputs": []
        },
        {
            "cell_type": "code",
            "source": "%%time\n\ndf = ds.read(\n    attrs = [\"sample_name\", \"contig\", \"pos_start\", \"pos_end\", \"alleles\", \"fmt_GT\"],\n    regions = [\"1:43337848-43352772\"],\n)\n\ndf",
            "metadata": {
                "tags": []
            },
            "execution_count": 22,
            "outputs": [
                {
                    "name": "stdout",
                    "text": "CPU times: user 113 ms, sys: 94 ms, total: 207 ms\nWall time: 148 ms\n",
                    "output_type": "stream"
                },
                {
                    "execution_count": 22,
                    "output_type": "execute_result",
                    "data": {
                        "text/plain": "    sample_name contig  pos_start   pos_end alleles  fmt_GT\n0       HG00096      1   43337897  43337897  [A, G]  [1, 0]\n1       HG00096      1   43339092  43339092  [C, T]  [1, 1]\n2       HG00097      1   43339092  43339092  [C, T]  [1, 1]\n3       HG00099      1   43339092  43339092  [C, T]  [1, 1]\n4       HG00100      1   43339092  43339092  [C, T]  [1, 1]\n..          ...    ...        ...       ...     ...     ...\n105     HG00099      1   43352685  43352685  [A, G]  [1, 1]\n106     HG00100      1   43352685  43352685  [A, G]  [1, 1]\n107     HG00101      1   43352685  43352685  [A, G]  [1, 1]\n108     HG00099      1   43352723  43352723  [C, G]  [1, 0]\n109     HG00100      1   43352723  43352723  [C, G]  [1, 0]\n\n[110 rows x 6 columns]",
                        "text/html": "<div>\n<style scoped>\n    .dataframe tbody tr th:only-of-type {\n        vertical-align: middle;\n    }\n\n    .dataframe tbody tr th {\n        vertical-align: top;\n    }\n\n    .dataframe thead th {\n        text-align: right;\n    }\n</style>\n<table border=\"1\" class=\"dataframe\">\n  <thead>\n    <tr style=\"text-align: right;\">\n      <th></th>\n      <th>sample_name</th>\n      <th>contig</th>\n      <th>pos_start</th>\n      <th>pos_end</th>\n      <th>alleles</th>\n      <th>fmt_GT</th>\n    </tr>\n  </thead>\n  <tbody>\n    <tr>\n      <th>0</th>\n      <td>HG00096</td>\n      <td>1</td>\n      <td>43337897</td>\n      <td>43337897</td>\n      <td>[A, G]</td>\n      <td>[1, 0]</td>\n    </tr>\n    <tr>\n      <th>1</th>\n      <td>HG00096</td>\n      <td>1</td>\n      <td>43339092</td>\n      <td>43339092</td>\n      <td>[C, T]</td>\n      <td>[1, 1]</td>\n    </tr>\n    <tr>\n      <th>2</th>\n      <td>HG00097</td>\n      <td>1</td>\n      <td>43339092</td>\n      <td>43339092</td>\n      <td>[C, T]</td>\n      <td>[1, 1]</td>\n    </tr>\n    <tr>\n      <th>3</th>\n      <td>HG00099</td>\n      <td>1</td>\n      <td>43339092</td>\n      <td>43339092</td>\n      <td>[C, T]</td>\n      <td>[1, 1]</td>\n    </tr>\n    <tr>\n      <th>4</th>\n      <td>HG00100</td>\n      <td>1</td>\n      <td>43339092</td>\n      <td>43339092</td>\n      <td>[C, T]</td>\n      <td>[1, 1]</td>\n    </tr>\n    <tr>\n      <th>...</th>\n      <td>...</td>\n      <td>...</td>\n      <td>...</td>\n      <td>...</td>\n      <td>...</td>\n      <td>...</td>\n    </tr>\n    <tr>\n      <th>105</th>\n      <td>HG00099</td>\n      <td>1</td>\n      <td>43352685</td>\n      <td>43352685</td>\n      <td>[A, G]</td>\n      <td>[1, 1]</td>\n    </tr>\n    <tr>\n      <th>106</th>\n      <td>HG00100</td>\n      <td>1</td>\n      <td>43352685</td>\n      <td>43352685</td>\n      <td>[A, G]</td>\n      <td>[1, 1]</td>\n    </tr>\n    <tr>\n      <th>107</th>\n      <td>HG00101</td>\n      <td>1</td>\n      <td>43352685</td>\n      <td>43352685</td>\n      <td>[A, G]</td>\n      <td>[1, 1]</td>\n    </tr>\n    <tr>\n      <th>108</th>\n      <td>HG00099</td>\n      <td>1</td>\n      <td>43352723</td>\n      <td>43352723</td>\n      <td>[C, G]</td>\n      <td>[1, 0]</td>\n    </tr>\n    <tr>\n      <th>109</th>\n      <td>HG00100</td>\n      <td>1</td>\n      <td>43352723</td>\n      <td>43352723</td>\n      <td>[C, G]</td>\n      <td>[1, 0]</td>\n    </tr>\n  </tbody>\n</table>\n<p>110 rows × 6 columns</p>\n</div>"
                    },
                    "metadata": {}
                }
            ]
        },
        {
            "cell_type": "markdown",
            "source": "### Query Sample Partition 2\n\nRe-open the array with the `sample_partition` parameter set to query the 2nd sample partition (i.e., samples 6–10).",
            "metadata": {
                "tags": []
            }
        },
        {
            "cell_type": "code",
            "source": "cfg = tiledbvcf.ReadConfig(sample_partition=(1, 2)) #This will return the second sub-set of the samples \nds = tiledbvcf.Dataset(array_uri, mode=\"r\", cfg=cfg)",
            "metadata": {},
            "execution_count": 23,
            "outputs": []
        },
        {
            "cell_type": "code",
            "source": "%%time\n\ndf = ds.read(\n    attrs = [\"sample_name\", \"contig\", \"pos_start\", \"pos_end\", \"alleles\", \"fmt_GT\"],\n    regions = [\"1:43337848-43352772\"],\n)\ndf",
            "metadata": {
                "tags": []
            },
            "execution_count": 24,
            "outputs": [
                {
                    "name": "stdout",
                    "text": "CPU times: user 73.1 ms, sys: 129 ms, total: 202 ms\nWall time: 147 ms\n",
                    "output_type": "stream"
                },
                {
                    "execution_count": 24,
                    "output_type": "execute_result",
                    "data": {
                        "text/plain": "    sample_name contig  pos_start   pos_end alleles  fmt_GT\n0       HG00102      1   43337978  43337978  [T, C]  [0, 1]\n1       HG00102      1   43339092  43339092  [C, T]  [1, 1]\n2       HG00103      1   43339092  43339092  [C, T]  [1, 1]\n3       HG00105      1   43339092  43339092  [C, T]  [1, 1]\n4       HG00106      1   43339092  43339092  [C, T]  [1, 1]\n..          ...    ...        ...       ...     ...     ...\n112     HG00106      1   43352685  43352685  [A, G]  [1, 1]\n113     HG00107      1   43352685  43352685  [A, G]  [1, 1]\n114     HG00102      1   43352723  43352723  [C, G]  [1, 0]\n115     HG00103      1   43352723  43352723  [C, G]  [1, 0]\n116     HG00107      1   43352723  43352723  [C, G]  [0, 1]\n\n[117 rows x 6 columns]",
                        "text/html": "<div>\n<style scoped>\n    .dataframe tbody tr th:only-of-type {\n        vertical-align: middle;\n    }\n\n    .dataframe tbody tr th {\n        vertical-align: top;\n    }\n\n    .dataframe thead th {\n        text-align: right;\n    }\n</style>\n<table border=\"1\" class=\"dataframe\">\n  <thead>\n    <tr style=\"text-align: right;\">\n      <th></th>\n      <th>sample_name</th>\n      <th>contig</th>\n      <th>pos_start</th>\n      <th>pos_end</th>\n      <th>alleles</th>\n      <th>fmt_GT</th>\n    </tr>\n  </thead>\n  <tbody>\n    <tr>\n      <th>0</th>\n      <td>HG00102</td>\n      <td>1</td>\n      <td>43337978</td>\n      <td>43337978</td>\n      <td>[T, C]</td>\n      <td>[0, 1]</td>\n    </tr>\n    <tr>\n      <th>1</th>\n      <td>HG00102</td>\n      <td>1</td>\n      <td>43339092</td>\n      <td>43339092</td>\n      <td>[C, T]</td>\n      <td>[1, 1]</td>\n    </tr>\n    <tr>\n      <th>2</th>\n      <td>HG00103</td>\n      <td>1</td>\n      <td>43339092</td>\n      <td>43339092</td>\n      <td>[C, T]</td>\n      <td>[1, 1]</td>\n    </tr>\n    <tr>\n      <th>3</th>\n      <td>HG00105</td>\n      <td>1</td>\n      <td>43339092</td>\n      <td>43339092</td>\n      <td>[C, T]</td>\n      <td>[1, 1]</td>\n    </tr>\n    <tr>\n      <th>4</th>\n      <td>HG00106</td>\n      <td>1</td>\n      <td>43339092</td>\n      <td>43339092</td>\n      <td>[C, T]</td>\n      <td>[1, 1]</td>\n    </tr>\n    <tr>\n      <th>...</th>\n      <td>...</td>\n      <td>...</td>\n      <td>...</td>\n      <td>...</td>\n      <td>...</td>\n      <td>...</td>\n    </tr>\n    <tr>\n      <th>112</th>\n      <td>HG00106</td>\n      <td>1</td>\n      <td>43352685</td>\n      <td>43352685</td>\n      <td>[A, G]</td>\n      <td>[1, 1]</td>\n    </tr>\n    <tr>\n      <th>113</th>\n      <td>HG00107</td>\n      <td>1</td>\n      <td>43352685</td>\n      <td>43352685</td>\n      <td>[A, G]</td>\n      <td>[1, 1]</td>\n    </tr>\n    <tr>\n      <th>114</th>\n      <td>HG00102</td>\n      <td>1</td>\n      <td>43352723</td>\n      <td>43352723</td>\n      <td>[C, G]</td>\n      <td>[1, 0]</td>\n    </tr>\n    <tr>\n      <th>115</th>\n      <td>HG00103</td>\n      <td>1</td>\n      <td>43352723</td>\n      <td>43352723</td>\n      <td>[C, G]</td>\n      <td>[1, 0]</td>\n    </tr>\n    <tr>\n      <th>116</th>\n      <td>HG00107</td>\n      <td>1</td>\n      <td>43352723</td>\n      <td>43352723</td>\n      <td>[C, G]</td>\n      <td>[0, 1]</td>\n    </tr>\n  </tbody>\n</table>\n<p>117 rows × 6 columns</p>\n</div>"
                    },
                    "metadata": {}
                }
            ]
        },
        {
            "cell_type": "markdown",
            "source": "Key takeaways:\n- TileDB support fast, parallel slicing\n- TileDB-VCF provides a convenient API to to partition queries across sample/genomic dimensions\n\n# 6. Parallel Queries with TileDB Cloud\n\n## Setup\n\nImport the `Delayed` module from `tiledb.cloud`. This is allows us to convert a normal python function into one that can be *Delayed* and serverlessly executed.",
            "metadata": {}
        },
        {
            "cell_type": "code",
            "source": "from tiledb.cloud.compute import Delayed",
            "metadata": {},
            "execution_count": 18,
            "outputs": []
        },
        {
            "cell_type": "markdown",
            "source": "## Run a Basic Query Serverlessly",
            "metadata": {}
        },
        {
            "cell_type": "markdown",
            "source": "Create UDF that wraps `tiledbvcf.read()`.",
            "metadata": {}
        },
        {
            "cell_type": "code",
            "source": "def vcf_query(uri, attrs, regions, samples=None, sample_partition=(0, 1)):\n    import tiledbvcf\n    import pyarrow\n    cfg = tiledbvcf.ReadConfig(sample_partition=sample_partition)\n    vcf_ds = tiledbvcf.Dataset(uri, mode=\"r\", cfg=cfg)\n    \n    results = [vcf_ds.read_arrow(attrs=attrs, samples=samples, regions=regions)]\n    while not vcf_ds.read_completed():\n        results.append(vcf_ds.continue_read_arrow())\n\n    return pyarrow.concat_tables(results, promote=False)",
            "metadata": {},
            "execution_count": 19,
            "outputs": []
        },
        {
            "cell_type": "markdown",
            "source": "Create a delayed *instance* of this UDF and specify the parameters we want to run it with. ",
            "metadata": {}
        },
        {
            "cell_type": "code",
            "source": "array_uri = \"tiledb://TileDB-Inc/vcf-1kg-nygc\"\n\nquery_attrs = [\"sample_name\", \"contig\", \"pos_start\", \"pos_end\", \"fmt_GT\"]\nquery_samples = [\"HG00096\", \"HG00097\", \"HG00099\", \"HG00100\", \"HG00101\", \"HG00102\", \"HG00103\", \"HG00105\", \"HG00106\", \"HG00107\", \"HG00108\", \"HG00109\", \"HG00110\", \"HG00111\", \"HG00112\", \"HG00113\", \"HG00114\", \"HG00115\", \"HG00116\", \"HG00117\", \"HG00118\", \"HG00119\", \"HG00120\", \"HG00121\", \"HG00122\", \"HG00123\", \"HG00125\", \"HG00126\", \"HG00127\", \"HG00128\", \"HG00129\", \"HG00130\", \"HG00131\", \"HG00132\", \"HG00133\", \"HG00136\", \"HG00137\", \"HG00138\", \"HG00139\", \"HG00140\", \"HG00141\", \"HG00142\", \"HG00143\", \"HG00145\", \"HG00146\", \"HG00148\", \"HG00149\", \"HG00150\", \"HG00151\", \"HG00154\", \"HG00155\", \"HG00157\", \"HG00158\", \"HG00159\", \"HG00160\", \"HG00171\", \"HG00173\", \"HG00174\", \"HG00176\", \"HG00177\", \"HG00178\", \"HG00179\", \"HG00180\", \"HG00181\", \"HG00182\", \"HG00183\", \"HG00185\", \"HG00186\", \"HG00187\", \"HG00188\", \"HG00189\", \"HG00190\", \"HG00231\", \"HG00232\", \"HG00233\", \"HG00234\", \"HG00235\", \"HG00236\", \"HG00237\", \"HG00238\", \"HG00239\", \"HG00240\", \"HG00242\", \"HG00243\", \"HG00244\", \"HG00245\", \"HG00246\", \"HG00250\", \"HG00251\", \"HG00252\", \"HG00253\", \"HG00254\", \"HG00255\", \"HG00256\", \"HG00257\", \"HG00258\", \"HG00259\", \"HG00260\", \"HG00261\", \"HG00262\"]\nquery_regions = [\"chr1:43337848-43352772\"]\n\ndelayed_read = Delayed(\n        func_exec=vcf_query,\n        result_format=tiledb.cloud.UDFResultType.ARROW,\n    )(\n        uri=array_uri, \n        attrs=query_attrs, \n        regions=query_regions,\n        samples=query_samples[:10],\n)",
            "metadata": {},
            "execution_count": 20,
            "outputs": []
        },
        {
            "cell_type": "code",
            "source": "delayed_read.visualize()",
            "metadata": {},
            "execution_count": 21,
            "outputs": [
                {
                    "output_type": "display_data",
                    "data": {
                        "text/plain": "Visualize(value='{\"nodes\": [\"22760dce-ecee-4eca-88ac-b58e3b3c0075\"], \"edges\": [], \"node_details\": {\"22760dce-e…",
                        "application/vnd.jupyter.widget-view+json": {
                            "version_major": 2,
                            "version_minor": 0,
                            "model_id": "b164c69889054553a83da6b32b125a5c"
                        }
                    },
                    "metadata": {}
                }
            ]
        },
        {
            "cell_type": "markdown",
            "source": "Call `compute()` to serverlessly execute the function.",
            "metadata": {}
        },
        {
            "cell_type": "code",
            "source": "%%time\nres1 = delayed_read.compute()\nres1.to_pandas()",
            "metadata": {},
            "execution_count": 22,
            "outputs": [
                {
                    "name": "stdout",
                    "text": "CPU times: user 23.3 ms, sys: 6.88 ms, total: 30.2 ms\nWall time: 7.02 s\n",
                    "output_type": "stream"
                },
                {
                    "execution_count": 22,
                    "output_type": "execute_result",
                    "data": {
                        "text/plain": "      sample_name contig  pos_start   pos_end  fmt_GT\n0         HG00099   chr1   43337743  43338411  [0, 0]\n1         HG00106   chr1   43337749  43338055  [0, 0]\n2         HG00102   chr1   43337756  43338088  [0, 0]\n3         HG00097   chr1   43337791  43338053  [0, 0]\n4         HG00100   chr1   43337812  43337850  [0, 0]\n...           ...    ...        ...       ...     ...\n22442     HG00105   chr1   43352768  43352779  [0, 0]\n22443     HG00106   chr1   43352769  43352769  [0, 0]\n22444     HG00106   chr1   43352770  43352791  [0, 0]\n22445     HG00100   chr1   43352771  43352771  [0, 0]\n22446     HG00100   chr1   43352772  43352781  [0, 0]\n\n[22447 rows x 5 columns]",
                        "text/html": "<div>\n<style scoped>\n    .dataframe tbody tr th:only-of-type {\n        vertical-align: middle;\n    }\n\n    .dataframe tbody tr th {\n        vertical-align: top;\n    }\n\n    .dataframe thead th {\n        text-align: right;\n    }\n</style>\n<table border=\"1\" class=\"dataframe\">\n  <thead>\n    <tr style=\"text-align: right;\">\n      <th></th>\n      <th>sample_name</th>\n      <th>contig</th>\n      <th>pos_start</th>\n      <th>pos_end</th>\n      <th>fmt_GT</th>\n    </tr>\n  </thead>\n  <tbody>\n    <tr>\n      <th>0</th>\n      <td>HG00099</td>\n      <td>chr1</td>\n      <td>43337743</td>\n      <td>43338411</td>\n      <td>[0, 0]</td>\n    </tr>\n    <tr>\n      <th>1</th>\n      <td>HG00106</td>\n      <td>chr1</td>\n      <td>43337749</td>\n      <td>43338055</td>\n      <td>[0, 0]</td>\n    </tr>\n    <tr>\n      <th>2</th>\n      <td>HG00102</td>\n      <td>chr1</td>\n      <td>43337756</td>\n      <td>43338088</td>\n      <td>[0, 0]</td>\n    </tr>\n    <tr>\n      <th>3</th>\n      <td>HG00097</td>\n      <td>chr1</td>\n      <td>43337791</td>\n      <td>43338053</td>\n      <td>[0, 0]</td>\n    </tr>\n    <tr>\n      <th>4</th>\n      <td>HG00100</td>\n      <td>chr1</td>\n      <td>43337812</td>\n      <td>43337850</td>\n      <td>[0, 0]</td>\n    </tr>\n    <tr>\n      <th>...</th>\n      <td>...</td>\n      <td>...</td>\n      <td>...</td>\n      <td>...</td>\n      <td>...</td>\n    </tr>\n    <tr>\n      <th>22442</th>\n      <td>HG00105</td>\n      <td>chr1</td>\n      <td>43352768</td>\n      <td>43352779</td>\n      <td>[0, 0]</td>\n    </tr>\n    <tr>\n      <th>22443</th>\n      <td>HG00106</td>\n      <td>chr1</td>\n      <td>43352769</td>\n      <td>43352769</td>\n      <td>[0, 0]</td>\n    </tr>\n    <tr>\n      <th>22444</th>\n      <td>HG00106</td>\n      <td>chr1</td>\n      <td>43352770</td>\n      <td>43352791</td>\n      <td>[0, 0]</td>\n    </tr>\n    <tr>\n      <th>22445</th>\n      <td>HG00100</td>\n      <td>chr1</td>\n      <td>43352771</td>\n      <td>43352771</td>\n      <td>[0, 0]</td>\n    </tr>\n    <tr>\n      <th>22446</th>\n      <td>HG00100</td>\n      <td>chr1</td>\n      <td>43352772</td>\n      <td>43352781</td>\n      <td>[0, 0]</td>\n    </tr>\n  </tbody>\n</table>\n<p>22447 rows × 5 columns</p>\n</div>"
                    },
                    "metadata": {}
                }
            ]
        },
        {
            "cell_type": "markdown",
            "source": "Key takeaways:\n- TileDB-VCF Datasets can be sliced directly from remote object stores\n- TileDB Cloud provides a flexible platform for building serverless data processing pipelines",
            "metadata": {}
        },
        {
            "cell_type": "markdown",
            "source": "## Run Multiple Batches of Queries in Parallel ",
            "metadata": {}
        },
        {
            "cell_type": "markdown",
            "source": "Add another UDF to combine the outputs into a single result.",
            "metadata": {}
        },
        {
            "cell_type": "code",
            "source": "def combine_results(dfs): #Taking resluts and combining them into one table\n    import pyarrow as pa\n    out = pa.concat_tables([x for x in dfs if x is not None])\n    return out",
            "metadata": {},
            "execution_count": 23,
            "outputs": []
        },
        {
            "cell_type": "markdown",
            "source": "Assemble and visualize the task graph.",
            "metadata": {}
        },
        {
            "cell_type": "code",
            "source": "nparts = 10\ndelayed_results = []\n\nfor i in range(nparts): #splitting up 100 samples into 10 partitions, that will run in parallel, only thing that changes is the sample index\n    delayed_results.append(\n        Delayed(\n            func_exec=vcf_query, \n            result_format=tiledb.cloud.UDFResultType.ARROW,\n        )(\n            uri=array_uri, \n            attrs=query_attrs,\n            regions=query_regions,\n            samples=query_samples,\n            sample_partition=(i, nparts),\n        )\n    )\ndelayed_results = Delayed(combine_results, local=True)(delayed_results) #Taking all the results and combining them into a single table, via the `combine_results` function\n\ndelayed_results.visualize()",
            "metadata": {
                "tags": []
            },
            "execution_count": 24,
            "outputs": [
                {
                    "output_type": "display_data",
                    "data": {
                        "text/plain": "Visualize(value='{\"nodes\": [\"610ece0d-5c99-4c43-87c8-eef0b2a115b7\", \"754274d4-8b0b-4780-9408-e48932de1f33\", \"4…",
                        "application/vnd.jupyter.widget-view+json": {
                            "version_major": 2,
                            "version_minor": 0,
                            "model_id": "6d5a4d6711a84171a672506499019cb8"
                        }
                    },
                    "metadata": {}
                }
            ]
        },
        {
            "cell_type": "code",
            "source": "%%time\nres2 = delayed_results.compute()\nres2.to_pandas()",
            "metadata": {},
            "execution_count": 25,
            "outputs": [
                {
                    "name": "stdout",
                    "text": "CPU times: user 182 ms, sys: 36.6 ms, total: 218 ms\nWall time: 9.11 s\n",
                    "output_type": "stream"
                },
                {
                    "execution_count": 25,
                    "output_type": "execute_result",
                    "data": {
                        "text/plain": "       sample_name contig  pos_start   pos_end  fmt_GT\n0          HG00099   chr1   43337743  43338411  [0, 0]\n1          HG00106   chr1   43337749  43338055  [0, 0]\n2          HG00102   chr1   43337756  43338088  [0, 0]\n3          HG00097   chr1   43337791  43338053  [0, 0]\n4          HG00100   chr1   43337812  43337850  [0, 0]\n...            ...    ...        ...       ...     ...\n216254     HG00260   chr1   43352762  43352785  [0, 0]\n216255     HG00262   chr1   43352762  43352766  [0, 0]\n216256     HG00261   chr1   43352766  43352769  [0, 0]\n216257     HG00262   chr1   43352767  43352775  [0, 0]\n216258     HG00261   chr1   43352770  43352779  [0, 0]\n\n[216259 rows x 5 columns]",
                        "text/html": "<div>\n<style scoped>\n    .dataframe tbody tr th:only-of-type {\n        vertical-align: middle;\n    }\n\n    .dataframe tbody tr th {\n        vertical-align: top;\n    }\n\n    .dataframe thead th {\n        text-align: right;\n    }\n</style>\n<table border=\"1\" class=\"dataframe\">\n  <thead>\n    <tr style=\"text-align: right;\">\n      <th></th>\n      <th>sample_name</th>\n      <th>contig</th>\n      <th>pos_start</th>\n      <th>pos_end</th>\n      <th>fmt_GT</th>\n    </tr>\n  </thead>\n  <tbody>\n    <tr>\n      <th>0</th>\n      <td>HG00099</td>\n      <td>chr1</td>\n      <td>43337743</td>\n      <td>43338411</td>\n      <td>[0, 0]</td>\n    </tr>\n    <tr>\n      <th>1</th>\n      <td>HG00106</td>\n      <td>chr1</td>\n      <td>43337749</td>\n      <td>43338055</td>\n      <td>[0, 0]</td>\n    </tr>\n    <tr>\n      <th>2</th>\n      <td>HG00102</td>\n      <td>chr1</td>\n      <td>43337756</td>\n      <td>43338088</td>\n      <td>[0, 0]</td>\n    </tr>\n    <tr>\n      <th>3</th>\n      <td>HG00097</td>\n      <td>chr1</td>\n      <td>43337791</td>\n      <td>43338053</td>\n      <td>[0, 0]</td>\n    </tr>\n    <tr>\n      <th>4</th>\n      <td>HG00100</td>\n      <td>chr1</td>\n      <td>43337812</td>\n      <td>43337850</td>\n      <td>[0, 0]</td>\n    </tr>\n    <tr>\n      <th>...</th>\n      <td>...</td>\n      <td>...</td>\n      <td>...</td>\n      <td>...</td>\n      <td>...</td>\n    </tr>\n    <tr>\n      <th>216254</th>\n      <td>HG00260</td>\n      <td>chr1</td>\n      <td>43352762</td>\n      <td>43352785</td>\n      <td>[0, 0]</td>\n    </tr>\n    <tr>\n      <th>216255</th>\n      <td>HG00262</td>\n      <td>chr1</td>\n      <td>43352762</td>\n      <td>43352766</td>\n      <td>[0, 0]</td>\n    </tr>\n    <tr>\n      <th>216256</th>\n      <td>HG00261</td>\n      <td>chr1</td>\n      <td>43352766</td>\n      <td>43352769</td>\n      <td>[0, 0]</td>\n    </tr>\n    <tr>\n      <th>216257</th>\n      <td>HG00262</td>\n      <td>chr1</td>\n      <td>43352767</td>\n      <td>43352775</td>\n      <td>[0, 0]</td>\n    </tr>\n    <tr>\n      <th>216258</th>\n      <td>HG00261</td>\n      <td>chr1</td>\n      <td>43352770</td>\n      <td>43352779</td>\n      <td>[0, 0]</td>\n    </tr>\n  </tbody>\n</table>\n<p>216259 rows × 5 columns</p>\n</div>"
                    },
                    "metadata": {}
                }
            ]
        },
        {
            "cell_type": "markdown",
            "source": "Key takeaways:\n- TileDB Cloud's serverless infrastructure makes it easy to setup and run large scale distributed queries",
            "metadata": {}
        }
    ]
}